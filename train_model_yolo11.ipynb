{
 "cells": [
  {
   "cell_type": "code",
   "execution_count": 1,
   "id": "215433fc",
   "metadata": {},
   "outputs": [],
   "source": [
    "%matplotlib inline"
   ]
  },
  {
   "cell_type": "code",
   "execution_count": 1,
   "id": "2b947a8d",
   "metadata": {},
   "outputs": [
    {
     "name": "stdout",
     "output_type": "stream",
     "text": [
      "Thu Apr 24 22:04:49 2025       \n",
      "+-----------------------------------------------------------------------------------------+\n",
      "| NVIDIA-SMI 572.16                 Driver Version: 572.16         CUDA Version: 12.8     |\n",
      "|-----------------------------------------+------------------------+----------------------+\n",
      "| GPU  Name                  Driver-Model | Bus-Id          Disp.A | Volatile Uncorr. ECC |\n",
      "| Fan  Temp   Perf          Pwr:Usage/Cap |           Memory-Usage | GPU-Util  Compute M. |\n",
      "|                                         |                        |               MIG M. |\n",
      "|=========================================+========================+======================|\n",
      "|   0  NVIDIA GeForce RTX 3050 ...  WDDM  |   00000000:01:00.0  On |                  N/A |\n",
      "| N/A   49C    P8              7W /   42W |     675MiB /   6144MiB |      5%      Default |\n",
      "|                                         |                        |                  N/A |\n",
      "+-----------------------------------------+------------------------+----------------------+\n",
      "                                                                                         \n",
      "+-----------------------------------------------------------------------------------------+\n",
      "| Processes:                                                                              |\n",
      "|  GPU   GI   CI              PID   Type   Process name                        GPU Memory |\n",
      "|        ID   ID                                                               Usage      |\n",
      "|=========================================================================================|\n",
      "|    0   N/A  N/A            3324    C+G   ...ntrolPanel\\SystemSettings.exe      N/A      |\n",
      "|    0   N/A  N/A            6192    C+G   ...__kzh8wxbdkxb8p\\DCv2\\DCv2.exe      N/A      |\n",
      "|    0   N/A  N/A            7740    C+G   ....0.3179.85\\msedgewebview2.exe      N/A      |\n",
      "|    0   N/A  N/A           10208    C+G   ..._cw5n1h2txyewy\\SearchHost.exe      N/A      |\n",
      "|    0   N/A  N/A           12340    C+G   ...t\\Edge\\Application\\msedge.exe      N/A      |\n",
      "|    0   N/A  N/A           14688    C+G   ...ocal\\Programs\\Opera\\opera.exe      N/A      |\n",
      "|    0   N/A  N/A           15208    C+G   C:\\Windows\\explorer.exe               N/A      |\n",
      "|    0   N/A  N/A           17128    C+G   ...ows\\System32\\NahimicSvc64.exe      N/A      |\n",
      "|    0   N/A  N/A           21208    C+G   ...Telegram Desktop\\Telegram.exe      N/A      |\n",
      "|    0   N/A  N/A           22432    C+G   ...y\\StartMenuExperienceHost.exe      N/A      |\n",
      "|    0   N/A  N/A           23876    C+G   ...4__w2gh52qy24etm\\Nahimic3.exe      N/A      |\n",
      "|    0   N/A  N/A           27472    C+G   ...ocal\\Programs\\Opera\\opera.exe      N/A      |\n",
      "|    0   N/A  N/A           29224    C+G   ...5n1h2txyewy\\TextInputHost.exe      N/A      |\n",
      "|    0   N/A  N/A           29376    C+G   ...ms\\Microsoft VS Code\\Code.exe      N/A      |\n",
      "|    0   N/A  N/A           32952    C+G   ...xyewy\\ShellExperienceHost.exe      N/A      |\n",
      "+-----------------------------------------------------------------------------------------+\n"
     ]
    }
   ],
   "source": [
    "!nvidia-smi"
   ]
  },
  {
   "cell_type": "code",
   "execution_count": 1,
   "id": "015a1208",
   "metadata": {},
   "outputs": [
    {
     "name": "stdout",
     "output_type": "stream",
     "text": [
      "c:\\Users\\MSI\\Documents\\Thesis_Project\\Automste_Testing_DeepSeek_Model\\word-detect-yolo.v1i.yolov11-obb\n"
     ]
    }
   ],
   "source": [
    "import os\n",
    "HOME = os.getcwd()\n",
    "print(HOME)"
   ]
  },
  {
   "cell_type": "code",
   "execution_count": 2,
   "id": "ddbf79af",
   "metadata": {},
   "outputs": [
    {
     "name": "stdout",
     "output_type": "stream",
     "text": [
      "Collecting ultralytics\n",
      "  Downloading ultralytics-8.3.116-py3-none-any.whl (984 kB)\n",
      "Collecting pandas>=1.1.4\n",
      "  Using cached pandas-2.2.3-cp39-cp39-win_amd64.whl (11.6 MB)\n",
      "Collecting numpy<=2.1.1,>=1.23.0\n",
      "  Using cached numpy-2.0.2-cp39-cp39-win_amd64.whl (15.9 MB)\n",
      "Collecting py-cpuinfo\n",
      "  Using cached py_cpuinfo-9.0.0-py3-none-any.whl (22 kB)\n",
      "Collecting seaborn>=0.11.0\n",
      "  Using cached seaborn-0.13.2-py3-none-any.whl (294 kB)\n",
      "Collecting pyyaml>=5.3.1\n",
      "  Using cached PyYAML-6.0.2-cp39-cp39-win_amd64.whl (162 kB)\n",
      "Collecting opencv-python>=4.6.0\n",
      "  Using cached opencv_python-4.11.0.86-cp37-abi3-win_amd64.whl (39.5 MB)\n",
      "Collecting pillow>=7.1.2\n",
      "  Downloading pillow-11.2.1-cp39-cp39-win_amd64.whl (2.7 MB)\n",
      "Collecting torch>=1.8.0\n",
      "  Downloading torch-2.7.0-cp39-cp39-win_amd64.whl (212.4 MB)\n",
      "Collecting scipy>=1.4.1\n",
      "  Using cached scipy-1.13.1-cp39-cp39-win_amd64.whl (46.2 MB)\n",
      "Requirement already satisfied: psutil in c:\\users\\msi\\documents\\thesis_project\\automste_testing_deepseek_model\\word-detect-yolo.v1i.yolov11-obb\\env\\lib\\site-packages (from ultralytics) (7.0.0)\n",
      "Collecting tqdm>=4.64.0\n",
      "  Using cached tqdm-4.67.1-py3-none-any.whl (78 kB)\n",
      "Collecting matplotlib>=3.3.0\n",
      "  Using cached matplotlib-3.9.4-cp39-cp39-win_amd64.whl (7.8 MB)\n",
      "Collecting ultralytics-thop>=2.0.0\n",
      "  Using cached ultralytics_thop-2.0.14-py3-none-any.whl (26 kB)\n",
      "Collecting torchvision>=0.9.0\n",
      "  Downloading torchvision-0.22.0-cp39-cp39-win_amd64.whl (1.7 MB)\n",
      "Collecting requests>=2.23.0\n",
      "  Using cached requests-2.32.3-py3-none-any.whl (64 kB)\n",
      "Collecting pytz>=2020.1\n",
      "  Using cached pytz-2025.2-py2.py3-none-any.whl (509 kB)\n",
      "Requirement already satisfied: python-dateutil>=2.8.2 in c:\\users\\msi\\documents\\thesis_project\\automste_testing_deepseek_model\\word-detect-yolo.v1i.yolov11-obb\\env\\lib\\site-packages (from pandas>=1.1.4->ultralytics) (2.9.0.post0)\n",
      "Collecting tzdata>=2022.7\n",
      "  Using cached tzdata-2025.2-py2.py3-none-any.whl (347 kB)\n",
      "Collecting fsspec\n",
      "  Using cached fsspec-2025.3.2-py3-none-any.whl (194 kB)\n",
      "Collecting networkx\n",
      "  Using cached networkx-3.2.1-py3-none-any.whl (1.6 MB)\n",
      "Requirement already satisfied: typing-extensions>=4.10.0 in c:\\users\\msi\\documents\\thesis_project\\automste_testing_deepseek_model\\word-detect-yolo.v1i.yolov11-obb\\env\\lib\\site-packages (from torch>=1.8.0->ultralytics) (4.13.2)\n",
      "Collecting sympy>=1.13.3\n",
      "  Downloading sympy-1.13.3-py3-none-any.whl (6.2 MB)\n",
      "Collecting jinja2\n",
      "  Using cached jinja2-3.1.6-py3-none-any.whl (134 kB)\n",
      "Collecting filelock\n",
      "  Using cached filelock-3.18.0-py3-none-any.whl (16 kB)\n",
      "Requirement already satisfied: colorama; platform_system == \"Windows\" in c:\\users\\msi\\documents\\thesis_project\\automste_testing_deepseek_model\\word-detect-yolo.v1i.yolov11-obb\\env\\lib\\site-packages (from tqdm>=4.64.0->ultralytics) (0.4.6)\n",
      "Collecting pyparsing>=2.3.1\n",
      "  Using cached pyparsing-3.2.3-py3-none-any.whl (111 kB)\n",
      "Collecting contourpy>=1.0.1\n",
      "  Using cached contourpy-1.3.0-cp39-cp39-win_amd64.whl (211 kB)\n",
      "Collecting cycler>=0.10\n",
      "  Using cached cycler-0.12.1-py3-none-any.whl (8.3 kB)\n",
      "Collecting importlib-resources>=3.2.0; python_version < \"3.10\"\n",
      "  Using cached importlib_resources-6.5.2-py3-none-any.whl (37 kB)\n",
      "Collecting fonttools>=4.22.0\n",
      "  Using cached fonttools-4.57.0-cp39-cp39-win_amd64.whl (2.2 MB)\n",
      "Collecting kiwisolver>=1.3.1\n",
      "  Using cached kiwisolver-1.4.7-cp39-cp39-win_amd64.whl (55 kB)\n",
      "Requirement already satisfied: packaging>=20.0 in c:\\users\\msi\\documents\\thesis_project\\automste_testing_deepseek_model\\word-detect-yolo.v1i.yolov11-obb\\env\\lib\\site-packages (from matplotlib>=3.3.0->ultralytics) (25.0)\n",
      "Collecting idna<4,>=2.5\n",
      "  Using cached idna-3.10-py3-none-any.whl (70 kB)\n",
      "Collecting charset-normalizer<4,>=2\n",
      "  Using cached charset_normalizer-3.4.1-cp39-cp39-win_amd64.whl (102 kB)\n",
      "Collecting certifi>=2017.4.17\n",
      "  Using cached certifi-2025.1.31-py3-none-any.whl (166 kB)\n",
      "Collecting urllib3<3,>=1.21.1\n",
      "  Using cached urllib3-2.4.0-py3-none-any.whl (128 kB)\n",
      "Requirement already satisfied: six>=1.5 in c:\\users\\msi\\documents\\thesis_project\\automste_testing_deepseek_model\\word-detect-yolo.v1i.yolov11-obb\\env\\lib\\site-packages (from python-dateutil>=2.8.2->pandas>=1.1.4->ultralytics) (1.17.0)\n",
      "Collecting mpmath<1.4,>=1.1.0\n",
      "  Using cached mpmath-1.3.0-py3-none-any.whl (536 kB)\n",
      "Collecting MarkupSafe>=2.0\n",
      "  Using cached MarkupSafe-3.0.2-cp39-cp39-win_amd64.whl (15 kB)\n",
      "Requirement already satisfied: zipp>=3.1.0; python_version < \"3.10\" in c:\\users\\msi\\documents\\thesis_project\\automste_testing_deepseek_model\\word-detect-yolo.v1i.yolov11-obb\\env\\lib\\site-packages (from importlib-resources>=3.2.0; python_version < \"3.10\"->matplotlib>=3.3.0->ultralytics) (3.21.0)\n",
      "Installing collected packages: pytz, numpy, tzdata, pandas, py-cpuinfo, pyparsing, contourpy, cycler, importlib-resources, fonttools, kiwisolver, pillow, matplotlib, seaborn, pyyaml, opencv-python, fsspec, networkx, mpmath, sympy, MarkupSafe, jinja2, filelock, torch, scipy, tqdm, ultralytics-thop, torchvision, idna, charset-normalizer, certifi, urllib3, requests, ultralytics\n",
      "Successfully installed MarkupSafe-3.0.2 certifi-2025.1.31 charset-normalizer-3.4.1 contourpy-1.3.0 cycler-0.12.1 filelock-3.18.0 fonttools-4.57.0 fsspec-2025.3.2 idna-3.10 importlib-resources-6.5.2 jinja2-3.1.6 kiwisolver-1.4.7 matplotlib-3.9.4 mpmath-1.3.0 networkx-3.2.1 numpy-2.0.2 opencv-python-4.11.0.86 pandas-2.2.3 pillow-11.2.1 py-cpuinfo-9.0.0 pyparsing-3.2.3 pytz-2025.2 pyyaml-6.0.2 requests-2.32.3 scipy-1.13.1 seaborn-0.13.2 sympy-1.13.3 torch-2.7.0 torchvision-0.22.0 tqdm-4.67.1 tzdata-2025.2 ultralytics-8.3.116 ultralytics-thop-2.0.14 urllib3-2.4.0\n"
     ]
    },
    {
     "name": "stderr",
     "output_type": "stream",
     "text": [
      "WARNING: You are using pip version 20.2.3; however, version 25.0.1 is available.\n",
      "You should consider upgrading via the 'c:\\users\\msi\\documents\\thesis_project\\automste_testing_deepseek_model\\word-detect-yolo.v1i.yolov11-obb\\env\\scripts\\python.exe -m pip install --upgrade pip' command.\n"
     ]
    }
   ],
   "source": [
    "!pip install ultralytics"
   ]
  },
  {
   "cell_type": "code",
   "execution_count": 2,
   "id": "092efe0c",
   "metadata": {},
   "outputs": [
    {
     "name": "stdout",
     "output_type": "stream",
     "text": [
      "Ultralytics 8.3.116  Python-3.9.0 torch-2.7.0+cpu CPU (13th Gen Intel Core(TM) i7-13620H)\n",
      "Setup complete  (16 CPUs, 15.7 GB RAM, 149.2/476.0 GB disk)\n"
     ]
    }
   ],
   "source": [
    "import ultralytics\n",
    "ultralytics.checks()"
   ]
  },
  {
   "cell_type": "markdown",
   "id": "9b9c8a0c",
   "metadata": {},
   "source": [
    "1. YOLO Detection"
   ]
  },
  {
   "cell_type": "code",
   "execution_count": 4,
   "id": "fdadc5f1",
   "metadata": {},
   "outputs": [
    {
     "name": "stdout",
     "output_type": "stream",
     "text": [
      "Requirement already up-to-date: ultralytics in c:\\users\\msi\\documents\\thesis_project\\automste_testing_deepseek_model\\word-detect-yolo.v1i.yolov11-obb\\env\\lib\\site-packages (8.3.116)\n",
      "Requirement already satisfied, skipping upgrade: torch>=1.8.0 in c:\\users\\msi\\documents\\thesis_project\\automste_testing_deepseek_model\\word-detect-yolo.v1i.yolov11-obb\\env\\lib\\site-packages (from ultralytics) (2.7.0)\n",
      "Requirement already satisfied, skipping upgrade: requests>=2.23.0 in c:\\users\\msi\\documents\\thesis_project\\automste_testing_deepseek_model\\word-detect-yolo.v1i.yolov11-obb\\env\\lib\\site-packages (from ultralytics) (2.32.3)\n",
      "Requirement already satisfied, skipping upgrade: psutil in c:\\users\\msi\\documents\\thesis_project\\automste_testing_deepseek_model\\word-detect-yolo.v1i.yolov11-obb\\env\\lib\\site-packages (from ultralytics) (7.0.0)\n",
      "Requirement already satisfied, skipping upgrade: torchvision>=0.9.0 in c:\\users\\msi\\documents\\thesis_project\\automste_testing_deepseek_model\\word-detect-yolo.v1i.yolov11-obb\\env\\lib\\site-packages (from ultralytics) (0.22.0)\n",
      "Requirement already satisfied, skipping upgrade: scipy>=1.4.1 in c:\\users\\msi\\documents\\thesis_project\\automste_testing_deepseek_model\\word-detect-yolo.v1i.yolov11-obb\\env\\lib\\site-packages (from ultralytics) (1.13.1)\n",
      "Requirement already satisfied, skipping upgrade: matplotlib>=3.3.0 in c:\\users\\msi\\documents\\thesis_project\\automste_testing_deepseek_model\\word-detect-yolo.v1i.yolov11-obb\\env\\lib\\site-packages (from ultralytics) (3.9.4)\n",
      "Requirement already satisfied, skipping upgrade: py-cpuinfo in c:\\users\\msi\\documents\\thesis_project\\automste_testing_deepseek_model\\word-detect-yolo.v1i.yolov11-obb\\env\\lib\\site-packages (from ultralytics) (9.0.0)\n",
      "Requirement already satisfied, skipping upgrade: pillow>=7.1.2 in c:\\users\\msi\\documents\\thesis_project\\automste_testing_deepseek_model\\word-detect-yolo.v1i.yolov11-obb\\env\\lib\\site-packages (from ultralytics) (11.2.1)\n",
      "Requirement already satisfied, skipping upgrade: opencv-python>=4.6.0 in c:\\users\\msi\\documents\\thesis_project\\automste_testing_deepseek_model\\word-detect-yolo.v1i.yolov11-obb\\env\\lib\\site-packages (from ultralytics) (4.11.0.86)\n",
      "Requirement already satisfied, skipping upgrade: numpy<=2.1.1,>=1.23.0 in c:\\users\\msi\\documents\\thesis_project\\automste_testing_deepseek_model\\word-detect-yolo.v1i.yolov11-obb\\env\\lib\\site-packages (from ultralytics) (2.0.2)\n",
      "Requirement already satisfied, skipping upgrade: pandas>=1.1.4 in c:\\users\\msi\\documents\\thesis_project\\automste_testing_deepseek_model\\word-detect-yolo.v1i.yolov11-obb\\env\\lib\\site-packages (from ultralytics) (2.2.3)\n",
      "Requirement already satisfied, skipping upgrade: seaborn>=0.11.0 in c:\\users\\msi\\documents\\thesis_project\\automste_testing_deepseek_model\\word-detect-yolo.v1i.yolov11-obb\\env\\lib\\site-packages (from ultralytics) (0.13.2)\n",
      "Requirement already satisfied, skipping upgrade: ultralytics-thop>=2.0.0 in c:\\users\\msi\\documents\\thesis_project\\automste_testing_deepseek_model\\word-detect-yolo.v1i.yolov11-obb\\env\\lib\\site-packages (from ultralytics) (2.0.14)\n",
      "Requirement already satisfied, skipping upgrade: tqdm>=4.64.0 in c:\\users\\msi\\documents\\thesis_project\\automste_testing_deepseek_model\\word-detect-yolo.v1i.yolov11-obb\\env\\lib\\site-packages (from ultralytics) (4.67.1)\n",
      "Requirement already satisfied, skipping upgrade: pyyaml>=5.3.1 in c:\\users\\msi\\documents\\thesis_project\\automste_testing_deepseek_model\\word-detect-yolo.v1i.yolov11-obb\\env\\lib\\site-packages (from ultralytics) (6.0.2)\n",
      "Requirement already satisfied, skipping upgrade: jinja2 in c:\\users\\msi\\documents\\thesis_project\\automste_testing_deepseek_model\\word-detect-yolo.v1i.yolov11-obb\\env\\lib\\site-packages (from torch>=1.8.0->ultralytics) (3.1.6)\n",
      "Requirement already satisfied, skipping upgrade: sympy>=1.13.3 in c:\\users\\msi\\documents\\thesis_project\\automste_testing_deepseek_model\\word-detect-yolo.v1i.yolov11-obb\\env\\lib\\site-packages (from torch>=1.8.0->ultralytics) (1.13.3)\n",
      "Requirement already satisfied, skipping upgrade: typing-extensions>=4.10.0 in c:\\users\\msi\\documents\\thesis_project\\automste_testing_deepseek_model\\word-detect-yolo.v1i.yolov11-obb\\env\\lib\\site-packages (from torch>=1.8.0->ultralytics) (4.13.2)\n",
      "Requirement already satisfied, skipping upgrade: filelock in c:\\users\\msi\\documents\\thesis_project\\automste_testing_deepseek_model\\word-detect-yolo.v1i.yolov11-obb\\env\\lib\\site-packages (from torch>=1.8.0->ultralytics) (3.18.0)\n",
      "Requirement already satisfied, skipping upgrade: networkx in c:\\users\\msi\\documents\\thesis_project\\automste_testing_deepseek_model\\word-detect-yolo.v1i.yolov11-obb\\env\\lib\\site-packages (from torch>=1.8.0->ultralytics) (3.2.1)\n",
      "Requirement already satisfied, skipping upgrade: fsspec in c:\\users\\msi\\documents\\thesis_project\\automste_testing_deepseek_model\\word-detect-yolo.v1i.yolov11-obb\\env\\lib\\site-packages (from torch>=1.8.0->ultralytics) (2025.3.2)\n",
      "Requirement already satisfied, skipping upgrade: charset-normalizer<4,>=2 in c:\\users\\msi\\documents\\thesis_project\\automste_testing_deepseek_model\\word-detect-yolo.v1i.yolov11-obb\\env\\lib\\site-packages (from requests>=2.23.0->ultralytics) (3.4.1)\n",
      "Requirement already satisfied, skipping upgrade: idna<4,>=2.5 in c:\\users\\msi\\documents\\thesis_project\\automste_testing_deepseek_model\\word-detect-yolo.v1i.yolov11-obb\\env\\lib\\site-packages (from requests>=2.23.0->ultralytics) (3.10)\n",
      "Requirement already satisfied, skipping upgrade: certifi>=2017.4.17 in c:\\users\\msi\\documents\\thesis_project\\automste_testing_deepseek_model\\word-detect-yolo.v1i.yolov11-obb\\env\\lib\\site-packages (from requests>=2.23.0->ultralytics) (2025.1.31)\n",
      "Requirement already satisfied, skipping upgrade: urllib3<3,>=1.21.1 in c:\\users\\msi\\documents\\thesis_project\\automste_testing_deepseek_model\\word-detect-yolo.v1i.yolov11-obb\\env\\lib\\site-packages (from requests>=2.23.0->ultralytics) (2.4.0)\n",
      "Requirement already satisfied, skipping upgrade: kiwisolver>=1.3.1 in c:\\users\\msi\\documents\\thesis_project\\automste_testing_deepseek_model\\word-detect-yolo.v1i.yolov11-obb\\env\\lib\\site-packages (from matplotlib>=3.3.0->ultralytics) (1.4.7)\n",
      "Requirement already satisfied, skipping upgrade: pyparsing>=2.3.1 in c:\\users\\msi\\documents\\thesis_project\\automste_testing_deepseek_model\\word-detect-yolo.v1i.yolov11-obb\\env\\lib\\site-packages (from matplotlib>=3.3.0->ultralytics) (3.2.3)\n",
      "Requirement already satisfied, skipping upgrade: cycler>=0.10 in c:\\users\\msi\\documents\\thesis_project\\automste_testing_deepseek_model\\word-detect-yolo.v1i.yolov11-obb\\env\\lib\\site-packages (from matplotlib>=3.3.0->ultralytics) (0.12.1)\n",
      "Requirement already satisfied, skipping upgrade: python-dateutil>=2.7 in c:\\users\\msi\\documents\\thesis_project\\automste_testing_deepseek_model\\word-detect-yolo.v1i.yolov11-obb\\env\\lib\\site-packages (from matplotlib>=3.3.0->ultralytics) (2.9.0.post0)\n",
      "Requirement already satisfied, skipping upgrade: importlib-resources>=3.2.0; python_version < \"3.10\" in c:\\users\\msi\\documents\\thesis_project\\automste_testing_deepseek_model\\word-detect-yolo.v1i.yolov11-obb\\env\\lib\\site-packages (from matplotlib>=3.3.0->ultralytics) (6.5.2)\n",
      "Requirement already satisfied, skipping upgrade: packaging>=20.0 in c:\\users\\msi\\documents\\thesis_project\\automste_testing_deepseek_model\\word-detect-yolo.v1i.yolov11-obb\\env\\lib\\site-packages (from matplotlib>=3.3.0->ultralytics) (25.0)\n",
      "Requirement already satisfied, skipping upgrade: contourpy>=1.0.1 in c:\\users\\msi\\documents\\thesis_project\\automste_testing_deepseek_model\\word-detect-yolo.v1i.yolov11-obb\\env\\lib\\site-packages (from matplotlib>=3.3.0->ultralytics) (1.3.0)\n",
      "Requirement already satisfied, skipping upgrade: fonttools>=4.22.0 in c:\\users\\msi\\documents\\thesis_project\\automste_testing_deepseek_model\\word-detect-yolo.v1i.yolov11-obb\\env\\lib\\site-packages (from matplotlib>=3.3.0->ultralytics) (4.57.0)\n",
      "Requirement already satisfied, skipping upgrade: pytz>=2020.1 in c:\\users\\msi\\documents\\thesis_project\\automste_testing_deepseek_model\\word-detect-yolo.v1i.yolov11-obb\\env\\lib\\site-packages (from pandas>=1.1.4->ultralytics) (2025.2)\n",
      "Requirement already satisfied, skipping upgrade: tzdata>=2022.7 in c:\\users\\msi\\documents\\thesis_project\\automste_testing_deepseek_model\\word-detect-yolo.v1i.yolov11-obb\\env\\lib\\site-packages (from pandas>=1.1.4->ultralytics) (2025.2)\n",
      "Requirement already satisfied, skipping upgrade: colorama; platform_system == \"Windows\" in c:\\users\\msi\\documents\\thesis_project\\automste_testing_deepseek_model\\word-detect-yolo.v1i.yolov11-obb\\env\\lib\\site-packages (from tqdm>=4.64.0->ultralytics) (0.4.6)\n",
      "Requirement already satisfied, skipping upgrade: MarkupSafe>=2.0 in c:\\users\\msi\\documents\\thesis_project\\automste_testing_deepseek_model\\word-detect-yolo.v1i.yolov11-obb\\env\\lib\\site-packages (from jinja2->torch>=1.8.0->ultralytics) (3.0.2)\n",
      "Requirement already satisfied, skipping upgrade: mpmath<1.4,>=1.1.0 in c:\\users\\msi\\documents\\thesis_project\\automste_testing_deepseek_model\\word-detect-yolo.v1i.yolov11-obb\\env\\lib\\site-packages (from sympy>=1.13.3->torch>=1.8.0->ultralytics) (1.3.0)\n",
      "Requirement already satisfied, skipping upgrade: six>=1.5 in c:\\users\\msi\\documents\\thesis_project\\automste_testing_deepseek_model\\word-detect-yolo.v1i.yolov11-obb\\env\\lib\\site-packages (from python-dateutil>=2.7->matplotlib>=3.3.0->ultralytics) (1.17.0)\n",
      "Requirement already satisfied, skipping upgrade: zipp>=3.1.0; python_version < \"3.10\" in c:\\users\\msi\\documents\\thesis_project\\automste_testing_deepseek_model\\word-detect-yolo.v1i.yolov11-obb\\env\\lib\\site-packages (from importlib-resources>=3.2.0; python_version < \"3.10\"->matplotlib>=3.3.0->ultralytics) (3.21.0)\n"
     ]
    },
    {
     "name": "stderr",
     "output_type": "stream",
     "text": [
      "WARNING: You are using pip version 20.2.3; however, version 25.0.1 is available.\n",
      "You should consider upgrading via the 'c:\\users\\msi\\documents\\thesis_project\\automste_testing_deepseek_model\\word-detect-yolo.v1i.yolov11-obb\\env\\scripts\\python.exe -m pip install --upgrade pip' command.\n"
     ]
    }
   ],
   "source": [
    "!pip install --upgrade ultralytics"
   ]
  },
  {
   "cell_type": "code",
   "execution_count": 14,
   "id": "543a117e",
   "metadata": {},
   "outputs": [
    {
     "name": "stdout",
     "output_type": "stream",
     "text": [
      "Downloading https://github.com/ultralytics/assets/releases/download/v8.3.0/yolo11n.pt to 'yolo11n.pt'...\n"
     ]
    },
    {
     "name": "stderr",
     "output_type": "stream",
     "text": [
      "100%|██████████| 5.35M/5.35M [00:00<00:00, 7.46MB/s]\n"
     ]
    }
   ],
   "source": [
    "from ultralytics import YOLO\n",
    "\n",
    "# Load a COCO-pretrained YOLO11n model\n",
    "model = YOLO(\"yolo11n.pt\")"
   ]
  },
  {
   "cell_type": "code",
   "execution_count": 5,
   "id": "da5c7fa1",
   "metadata": {},
   "outputs": [
    {
     "name": "stdout",
     "output_type": "stream",
     "text": [
      "New https://pypi.org/project/ultralytics/8.3.137 available  Update with 'pip install -U ultralytics'\n",
      "Ultralytics 8.3.116  Python-3.9.0 torch-2.7.0+cpu CPU (13th Gen Intel Core(TM) i7-13620H)\n",
      "\u001b[34m\u001b[1mengine\\trainer: \u001b[0mtask=detect, mode=train, model=C:/Users/MSI/Documents/Thesis_Project/Automste_Testing_DeepSeek_Model/word-detect-yolo.v1i.yolov11-obb/run1/weights/best.pt, data=C:/Users/MSI/Documents/Thesis_Project/Automste_Testing_DeepSeek_Model/word-detect-yolo.v1i.yolov11-obb/data.yaml, epochs=50, time=None, patience=100, batch=16, imgsz=640, save=True, save_period=-1, cache=False, device=None, workers=8, project=C:/Users/MSI/Documents/Thesis_Project/Automste_Testing_DeepSeek_Model/word-detect-yolo.v1i.yolov11-obb, name=run12, exist_ok=False, pretrained=True, optimizer=auto, verbose=True, seed=0, deterministic=True, single_cls=False, rect=False, cos_lr=False, close_mosaic=10, resume=False, amp=True, fraction=1.0, profile=False, freeze=None, multi_scale=False, overlap_mask=True, mask_ratio=4, dropout=0.0, val=True, split=val, save_json=False, conf=None, iou=0.7, max_det=300, half=False, dnn=False, plots=True, source=None, vid_stride=1, stream_buffer=False, visualize=False, augment=False, agnostic_nms=False, classes=None, retina_masks=False, embed=None, show=False, save_frames=False, save_txt=False, save_conf=False, save_crop=False, show_labels=True, show_conf=True, show_boxes=True, line_width=None, format=torchscript, keras=False, optimize=False, int8=False, dynamic=False, simplify=True, opset=None, workspace=None, nms=False, lr0=0.01, lrf=0.01, momentum=0.937, weight_decay=0.0005, warmup_epochs=3.0, warmup_momentum=0.8, warmup_bias_lr=0.1, box=7.5, cls=0.5, dfl=1.5, pose=12.0, kobj=1.0, nbs=64, hsv_h=0.015, hsv_s=0.7, hsv_v=0.4, degrees=0.0, translate=0.1, scale=0.5, shear=0.0, perspective=0.0, flipud=0.0, fliplr=0.5, bgr=0.0, mosaic=1.0, mixup=0.0, copy_paste=0.0, copy_paste_mode=flip, auto_augment=randaugment, erasing=0.4, cfg=None, tracker=botsort.yaml, save_dir=C:\\Users\\MSI\\Documents\\Thesis_Project\\Automste_Testing_DeepSeek_Model\\word-detect-yolo.v1i.yolov11-obb\\run12\n",
      "\n",
      "                   from  n    params  module                                       arguments                     \n",
      "  0                  -1  1       464  ultralytics.nn.modules.conv.Conv             [3, 16, 3, 2]                 \n",
      "  1                  -1  1      4672  ultralytics.nn.modules.conv.Conv             [16, 32, 3, 2]                \n",
      "  2                  -1  1      6640  ultralytics.nn.modules.block.C3k2            [32, 64, 1, False, 0.25]      \n",
      "  3                  -1  1     36992  ultralytics.nn.modules.conv.Conv             [64, 64, 3, 2]                \n",
      "  4                  -1  1     26080  ultralytics.nn.modules.block.C3k2            [64, 128, 1, False, 0.25]     \n",
      "  5                  -1  1    147712  ultralytics.nn.modules.conv.Conv             [128, 128, 3, 2]              \n",
      "  6                  -1  1     87040  ultralytics.nn.modules.block.C3k2            [128, 128, 1, True]           \n",
      "  7                  -1  1    295424  ultralytics.nn.modules.conv.Conv             [128, 256, 3, 2]              \n",
      "  8                  -1  1    346112  ultralytics.nn.modules.block.C3k2            [256, 256, 1, True]           \n",
      "  9                  -1  1    164608  ultralytics.nn.modules.block.SPPF            [256, 256, 5]                 \n",
      " 10                  -1  1    249728  ultralytics.nn.modules.block.C2PSA           [256, 256, 1]                 \n",
      " 11                  -1  1         0  torch.nn.modules.upsampling.Upsample         [None, 2, 'nearest']          \n",
      " 12             [-1, 6]  1         0  ultralytics.nn.modules.conv.Concat           [1]                           \n",
      " 13                  -1  1    111296  ultralytics.nn.modules.block.C3k2            [384, 128, 1, False]          \n",
      " 14                  -1  1         0  torch.nn.modules.upsampling.Upsample         [None, 2, 'nearest']          \n",
      " 15             [-1, 4]  1         0  ultralytics.nn.modules.conv.Concat           [1]                           \n",
      " 16                  -1  1     32096  ultralytics.nn.modules.block.C3k2            [256, 64, 1, False]           \n",
      " 17                  -1  1     36992  ultralytics.nn.modules.conv.Conv             [64, 64, 3, 2]                \n",
      " 18            [-1, 13]  1         0  ultralytics.nn.modules.conv.Concat           [1]                           \n",
      " 19                  -1  1     86720  ultralytics.nn.modules.block.C3k2            [192, 128, 1, False]          \n",
      " 20                  -1  1    147712  ultralytics.nn.modules.conv.Conv             [128, 128, 3, 2]              \n",
      " 21            [-1, 10]  1         0  ultralytics.nn.modules.conv.Concat           [1]                           \n",
      " 22                  -1  1    378880  ultralytics.nn.modules.block.C3k2            [384, 256, 1, True]           \n",
      " 23        [16, 19, 22]  1    430867  ultralytics.nn.modules.head.Detect           [1, [64, 128, 256]]           \n",
      "YOLO11n summary: 181 layers, 2,590,035 parameters, 2,590,019 gradients, 6.4 GFLOPs\n",
      "\n",
      "Transferred 94/499 items from pretrained weights\n",
      "Freezing layer 'model.23.dfl.conv.weight'\n",
      "\u001b[34m\u001b[1mtrain: \u001b[0mFast image access  (ping: 0.20.1 ms, read: 7.81.2 MB/s, size: 40.8 KB)\n"
     ]
    },
    {
     "name": "stderr",
     "output_type": "stream",
     "text": [
      "\u001b[34m\u001b[1mtrain: \u001b[0mScanning C:\\Users\\MSI\\Documents\\Thesis_Project\\Automste_Testing_DeepSeek_Model\\word-detect-yolo.v1i.yolov11-obb\\train\\labels.cache... 1224 images, 0 backgrounds, 0 corrupt: 100%|██████████| 1224/1224 [00:00<?, ?it/s]"
     ]
    },
    {
     "name": "stdout",
     "output_type": "stream",
     "text": [
      "\u001b[34m\u001b[1mtrain: \u001b[0mC:\\Users\\MSI\\Documents\\Thesis_Project\\Automste_Testing_DeepSeek_Model\\word-detect-yolo.v1i.yolov11-obb\\train\\images\\a01-063u_png.rf.4ac3f46b58c98d73e9d44d3e8b7a1d40.jpg: 77 duplicate labels removed\n",
      "\u001b[34m\u001b[1mtrain: \u001b[0mC:\\Users\\MSI\\Documents\\Thesis_Project\\Automste_Testing_DeepSeek_Model\\word-detect-yolo.v1i.yolov11-obb\\train\\images\\a03-059_png.rf.3875e3799430b6e7fe6fc35b385e72c8.jpg: 3 duplicate labels removed\n",
      "\u001b[34m\u001b[1mtrain: \u001b[0mC:\\Users\\MSI\\Documents\\Thesis_Project\\Automste_Testing_DeepSeek_Model\\word-detect-yolo.v1i.yolov11-obb\\train\\images\\a03-066_png.rf.ba560036c9f34f0453473b0d72846754.jpg: 58 duplicate labels removed\n",
      "\u001b[34m\u001b[1mtrain: \u001b[0mC:\\Users\\MSI\\Documents\\Thesis_Project\\Automste_Testing_DeepSeek_Model\\word-detect-yolo.v1i.yolov11-obb\\train\\images\\a06-004_png.rf.ea7523286f0dc58f91bd393ab304dc98.jpg: 73 duplicate labels removed\n",
      "\u001b[34m\u001b[1mtrain: \u001b[0mC:\\Users\\MSI\\Documents\\Thesis_Project\\Automste_Testing_DeepSeek_Model\\word-detect-yolo.v1i.yolov11-obb\\train\\images\\b01-118_png.rf.f162be0e07d981f67ba9463d8284a33c.jpg: 79 duplicate labels removed\n",
      "\u001b[34m\u001b[1mtrain: \u001b[0mC:\\Users\\MSI\\Documents\\Thesis_Project\\Automste_Testing_DeepSeek_Model\\word-detect-yolo.v1i.yolov11-obb\\train\\images\\b03-104_png.rf.36374a63c65626e9983709e384c732e4.jpg: 78 duplicate labels removed\n",
      "\u001b[34m\u001b[1mtrain: \u001b[0mC:\\Users\\MSI\\Documents\\Thesis_Project\\Automste_Testing_DeepSeek_Model\\word-detect-yolo.v1i.yolov11-obb\\train\\images\\b05-042_png.rf.abfcabb26692e3952c9cba8f484bd094.jpg: 3 duplicate labels removed\n",
      "\u001b[34m\u001b[1mtrain: \u001b[0mC:\\Users\\MSI\\Documents\\Thesis_Project\\Automste_Testing_DeepSeek_Model\\word-detect-yolo.v1i.yolov11-obb\\train\\images\\c01-009_png.rf.49c92acc2750e269d0c95e7a8e37e995.jpg: 5 duplicate labels removed\n",
      "\u001b[34m\u001b[1mtrain: \u001b[0mC:\\Users\\MSI\\Documents\\Thesis_Project\\Automste_Testing_DeepSeek_Model\\word-detect-yolo.v1i.yolov11-obb\\train\\images\\c01-014_png.rf.b004e47cb28d60a58bc2300d51fccc83.jpg: 5 duplicate labels removed\n",
      "\u001b[34m\u001b[1mtrain: \u001b[0mC:\\Users\\MSI\\Documents\\Thesis_Project\\Automste_Testing_DeepSeek_Model\\word-detect-yolo.v1i.yolov11-obb\\train\\images\\c03-003c_png.rf.d21b7ab5659a6fd4c7ee22356b7a789a.jpg: 80 duplicate labels removed\n",
      "\u001b[34m\u001b[1mtrain: \u001b[0mC:\\Users\\MSI\\Documents\\Thesis_Project\\Automste_Testing_DeepSeek_Model\\word-detect-yolo.v1i.yolov11-obb\\train\\images\\d04-117_png.rf.de06df779ecd9af2540f0c8b89471dea.jpg: 80 duplicate labels removed\n",
      "\u001b[34m\u001b[1mtrain: \u001b[0mC:\\Users\\MSI\\Documents\\Thesis_Project\\Automste_Testing_DeepSeek_Model\\word-detect-yolo.v1i.yolov11-obb\\train\\images\\d06-063_png.rf.ffb268b717c4055cddd0d6023936758e.jpg: 4 duplicate labels removed\n",
      "\u001b[34m\u001b[1mtrain: \u001b[0mC:\\Users\\MSI\\Documents\\Thesis_Project\\Automste_Testing_DeepSeek_Model\\word-detect-yolo.v1i.yolov11-obb\\train\\images\\d07-096_png.rf.3a00dd1e74935c3b9cb28b50acd526f6.jpg: 89 duplicate labels removed\n",
      "\u001b[34m\u001b[1mtrain: \u001b[0mC:\\Users\\MSI\\Documents\\Thesis_Project\\Automste_Testing_DeepSeek_Model\\word-detect-yolo.v1i.yolov11-obb\\train\\images\\g06-031e_png.rf.292db87a43967a195d41d3b7e562c215.jpg: 85 duplicate labels removed\n",
      "\u001b[34m\u001b[1mtrain: \u001b[0mC:\\Users\\MSI\\Documents\\Thesis_Project\\Automste_Testing_DeepSeek_Model\\word-detect-yolo.v1i.yolov11-obb\\train\\images\\g06-037m_png.rf.560819b0cc0690d28c5b6e6353d76336.jpg: 93 duplicate labels removed\n",
      "\u001b[34m\u001b[1mtrain: \u001b[0mC:\\Users\\MSI\\Documents\\Thesis_Project\\Automste_Testing_DeepSeek_Model\\word-detect-yolo.v1i.yolov11-obb\\train\\images\\h04-055_png.rf.bf2cf2d24262b819efa33039c2205b1f.jpg: 69 duplicate labels removed\n",
      "\u001b[34m\u001b[1mtrain: \u001b[0mC:\\Users\\MSI\\Documents\\Thesis_Project\\Automste_Testing_DeepSeek_Model\\word-detect-yolo.v1i.yolov11-obb\\train\\images\\j04-024_png.rf.aba583ec794e5c45010db6e87c396242.jpg: 76 duplicate labels removed\n",
      "\u001b[34m\u001b[1mtrain: \u001b[0mC:\\Users\\MSI\\Documents\\Thesis_Project\\Automste_Testing_DeepSeek_Model\\word-detect-yolo.v1i.yolov11-obb\\train\\images\\m01-049_png.rf.ba76342546c6f0b6ba3805964bd4b5bd.jpg: 1 duplicate labels removed\n",
      "\u001b[34m\u001b[1mtrain: \u001b[0mC:\\Users\\MSI\\Documents\\Thesis_Project\\Automste_Testing_DeepSeek_Model\\word-detect-yolo.v1i.yolov11-obb\\train\\images\\m01-110_png.rf.f3abbb986cf8e0460771dd3ad342bc96.jpg: 1 duplicate labels removed\n",
      "\u001b[34m\u001b[1mtrain: \u001b[0mC:\\Users\\MSI\\Documents\\Thesis_Project\\Automste_Testing_DeepSeek_Model\\word-detect-yolo.v1i.yolov11-obb\\train\\images\\m01-136_png.rf.0932c68de2523ef5c412c5f938913df0.jpg: 2 duplicate labels removed\n",
      "\u001b[34m\u001b[1mtrain: \u001b[0mC:\\Users\\MSI\\Documents\\Thesis_Project\\Automste_Testing_DeepSeek_Model\\word-detect-yolo.v1i.yolov11-obb\\train\\images\\m03-013_png.rf.509fb0e06175b40db21acfeb3708bd04.jpg: 67 duplicate labels removed\n",
      "\u001b[34m\u001b[1mtrain: \u001b[0mC:\\Users\\MSI\\Documents\\Thesis_Project\\Automste_Testing_DeepSeek_Model\\word-detect-yolo.v1i.yolov11-obb\\train\\images\\m03-095_png.rf.6cd2b399c3592449fe12958e73f8674e.jpg: 59 duplicate labels removed\n",
      "\u001b[34m\u001b[1mtrain: \u001b[0mC:\\Users\\MSI\\Documents\\Thesis_Project\\Automste_Testing_DeepSeek_Model\\word-detect-yolo.v1i.yolov11-obb\\train\\images\\n03-106_png.rf.02a82d5d2632e18a09dce505d49f007b.jpg: 2 duplicate labels removed\n",
      "\u001b[34m\u001b[1mtrain: \u001b[0mC:\\Users\\MSI\\Documents\\Thesis_Project\\Automste_Testing_DeepSeek_Model\\word-detect-yolo.v1i.yolov11-obb\\train\\images\\n04-000_png.rf.233e559bd80846d780e09a16047f6481.jpg: 78 duplicate labels removed\n",
      "\u001b[34m\u001b[1mtrain: \u001b[0mC:\\Users\\MSI\\Documents\\Thesis_Project\\Automste_Testing_DeepSeek_Model\\word-detect-yolo.v1i.yolov11-obb\\train\\images\\p03-181_png.rf.03005cf2200ad7cb8f3794931d7a167e.jpg: 89 duplicate labels removed\n",
      "\u001b[34m\u001b[1mval: \u001b[0mFast image access  (ping: 0.00.0 ms, read: 834.7290.2 MB/s, size: 42.4 KB)\n"
     ]
    },
    {
     "name": "stderr",
     "output_type": "stream",
     "text": [
      "\n",
      "c:\\Users\\MSI\\Documents\\Thesis_Project\\Automste_Testing_DeepSeek_Model\\word-detect-yolo.v1i.yolov11-obb\\env\\lib\\site-packages\\torch\\utils\\data\\dataloader.py:665: UserWarning: 'pin_memory' argument is set as true but no accelerator is found, then device pinned memory won't be used.\n",
      "  warnings.warn(warn_msg)\n",
      "\u001b[34m\u001b[1mval: \u001b[0mScanning C:\\Users\\MSI\\Documents\\Thesis_Project\\Automste_Testing_DeepSeek_Model\\word-detect-yolo.v1i.yolov11-obb\\valid\\labels.cache... 154 images, 0 backgrounds, 0 corrupt: 100%|██████████| 154/154 [00:00<?, ?it/s]"
     ]
    },
    {
     "name": "stdout",
     "output_type": "stream",
     "text": [
      "\u001b[34m\u001b[1mval: \u001b[0mC:\\Users\\MSI\\Documents\\Thesis_Project\\Automste_Testing_DeepSeek_Model\\word-detect-yolo.v1i.yolov11-obb\\valid\\images\\b05-088_png.rf.e8196fb78748c7a7883bfa1c8d6c344b.jpg: 77 duplicate labels removed\n",
      "\u001b[34m\u001b[1mval: \u001b[0mC:\\Users\\MSI\\Documents\\Thesis_Project\\Automste_Testing_DeepSeek_Model\\word-detect-yolo.v1i.yolov11-obb\\valid\\images\\d06-072_png.rf.c2d7888c349dc0bfd50adf8028de9366.jpg: 2 duplicate labels removed\n",
      "\u001b[34m\u001b[1mval: \u001b[0mC:\\Users\\MSI\\Documents\\Thesis_Project\\Automste_Testing_DeepSeek_Model\\word-detect-yolo.v1i.yolov11-obb\\valid\\images\\g06-011f_png.rf.6f1057d63ff1b76b194a7b93bff5add0.jpg: 109 duplicate labels removed\n",
      "\u001b[34m\u001b[1mval: \u001b[0mC:\\Users\\MSI\\Documents\\Thesis_Project\\Automste_Testing_DeepSeek_Model\\word-detect-yolo.v1i.yolov11-obb\\valid\\images\\m01-149_png.rf.6b51a1de657c9e6e625c2ba58df3b8d5.jpg: 91 duplicate labels removed\n",
      "Plotting labels to C:\\Users\\MSI\\Documents\\Thesis_Project\\Automste_Testing_DeepSeek_Model\\word-detect-yolo.v1i.yolov11-obb\\run12\\labels.jpg... \n"
     ]
    },
    {
     "name": "stderr",
     "output_type": "stream",
     "text": [
      "\n",
      "c:\\Users\\MSI\\Documents\\Thesis_Project\\Automste_Testing_DeepSeek_Model\\word-detect-yolo.v1i.yolov11-obb\\env\\lib\\site-packages\\torch\\utils\\data\\dataloader.py:665: UserWarning: 'pin_memory' argument is set as true but no accelerator is found, then device pinned memory won't be used.\n",
      "  warnings.warn(warn_msg)\n"
     ]
    },
    {
     "name": "stdout",
     "output_type": "stream",
     "text": [
      "\u001b[34m\u001b[1moptimizer:\u001b[0m 'optimizer=auto' found, ignoring 'lr0=0.01' and 'momentum=0.937' and determining best 'optimizer', 'lr0' and 'momentum' automatically... \n",
      "\u001b[34m\u001b[1moptimizer:\u001b[0m AdamW(lr=0.002, momentum=0.9) with parameter groups 81 weight(decay=0.0), 88 weight(decay=0.0005), 87 bias(decay=0.0)\n",
      "Image sizes 640 train, 640 val\n",
      "Using 0 dataloader workers\n",
      "Logging results to \u001b[1mC:\\Users\\MSI\\Documents\\Thesis_Project\\Automste_Testing_DeepSeek_Model\\word-detect-yolo.v1i.yolov11-obb\\run12\u001b[0m\n",
      "Starting training for 50 epochs...\n",
      "\n",
      "      Epoch    GPU_mem   box_loss   cls_loss   dfl_loss  Instances       Size\n"
     ]
    },
    {
     "name": "stderr",
     "output_type": "stream",
     "text": [
      "       1/50         0G      1.703     0.9116      1.113        639        640: 100%|██████████| 77/77 [05:10<00:00,  4.04s/it]\n",
      "                 Class     Images  Instances      Box(P          R      mAP50  mAP50-95): 100%|██████████| 5/5 [00:12<00:00,  2.46s/it]"
     ]
    },
    {
     "name": "stdout",
     "output_type": "stream",
     "text": [
      "                   all        154      11423      0.921      0.804      0.839      0.591\n",
      "\n",
      "      Epoch    GPU_mem   box_loss   cls_loss   dfl_loss  Instances       Size\n"
     ]
    },
    {
     "name": "stderr",
     "output_type": "stream",
     "text": [
      "\n",
      "       2/50         0G      1.018     0.5873      0.927        765        640: 100%|██████████| 77/77 [04:49<00:00,  3.76s/it]\n",
      "                 Class     Images  Instances      Box(P          R      mAP50  mAP50-95): 100%|██████████| 5/5 [00:12<00:00,  2.59s/it]"
     ]
    },
    {
     "name": "stdout",
     "output_type": "stream",
     "text": [
      "                   all        154      11423      0.949       0.83      0.864      0.651\n",
      "\n",
      "      Epoch    GPU_mem   box_loss   cls_loss   dfl_loss  Instances       Size\n"
     ]
    },
    {
     "name": "stderr",
     "output_type": "stream",
     "text": [
      "\n",
      "       3/50         0G     0.9639     0.5512     0.9048        811        640: 100%|██████████| 77/77 [04:47<00:00,  3.74s/it]\n",
      "                 Class     Images  Instances      Box(P          R      mAP50  mAP50-95): 100%|██████████| 5/5 [00:12<00:00,  2.42s/it]"
     ]
    },
    {
     "name": "stdout",
     "output_type": "stream",
     "text": [
      "                   all        154      11423      0.945      0.837      0.871      0.662\n",
      "\n",
      "      Epoch    GPU_mem   box_loss   cls_loss   dfl_loss  Instances       Size\n"
     ]
    },
    {
     "name": "stderr",
     "output_type": "stream",
     "text": [
      "\n",
      "       4/50         0G       0.95     0.5401     0.8932        666        640: 100%|██████████| 77/77 [04:51<00:00,  3.79s/it]\n",
      "                 Class     Images  Instances      Box(P          R      mAP50  mAP50-95): 100%|██████████| 5/5 [00:12<00:00,  2.42s/it]"
     ]
    },
    {
     "name": "stdout",
     "output_type": "stream",
     "text": [
      "                   all        154      11423      0.942      0.833      0.876      0.679\n",
      "\n",
      "      Epoch    GPU_mem   box_loss   cls_loss   dfl_loss  Instances       Size\n"
     ]
    },
    {
     "name": "stderr",
     "output_type": "stream",
     "text": [
      "\n",
      "       5/50         0G     0.9261     0.5241     0.8852        824        640: 100%|██████████| 77/77 [04:52<00:00,  3.80s/it]\n",
      "                 Class     Images  Instances      Box(P          R      mAP50  mAP50-95): 100%|██████████| 5/5 [00:12<00:00,  2.46s/it]"
     ]
    },
    {
     "name": "stdout",
     "output_type": "stream",
     "text": [
      "                   all        154      11423      0.948      0.839      0.881      0.693\n",
      "\n",
      "      Epoch    GPU_mem   box_loss   cls_loss   dfl_loss  Instances       Size\n"
     ]
    },
    {
     "name": "stderr",
     "output_type": "stream",
     "text": [
      "\n",
      "       6/50         0G     0.9356     0.5285     0.8847        812        640: 100%|██████████| 77/77 [04:51<00:00,  3.79s/it]\n",
      "                 Class     Images  Instances      Box(P          R      mAP50  mAP50-95): 100%|██████████| 5/5 [00:12<00:00,  2.45s/it]"
     ]
    },
    {
     "name": "stdout",
     "output_type": "stream",
     "text": [
      "                   all        154      11423      0.952      0.837      0.882      0.696\n",
      "\n",
      "      Epoch    GPU_mem   box_loss   cls_loss   dfl_loss  Instances       Size\n"
     ]
    },
    {
     "name": "stderr",
     "output_type": "stream",
     "text": [
      "\n",
      "       7/50         0G     0.8795     0.5045     0.8778        784        640: 100%|██████████| 77/77 [04:48<00:00,  3.75s/it]\n",
      "                 Class     Images  Instances      Box(P          R      mAP50  mAP50-95): 100%|██████████| 5/5 [00:12<00:00,  2.44s/it]"
     ]
    },
    {
     "name": "stdout",
     "output_type": "stream",
     "text": [
      "                   all        154      11423      0.944      0.839      0.875      0.685\n",
      "\n",
      "      Epoch    GPU_mem   box_loss   cls_loss   dfl_loss  Instances       Size\n"
     ]
    },
    {
     "name": "stderr",
     "output_type": "stream",
     "text": [
      "\n",
      "       8/50         0G     0.8725     0.5015     0.8766       1061        640: 100%|██████████| 77/77 [04:48<00:00,  3.75s/it]\n",
      "                 Class     Images  Instances      Box(P          R      mAP50  mAP50-95): 100%|██████████| 5/5 [00:12<00:00,  2.46s/it]"
     ]
    },
    {
     "name": "stdout",
     "output_type": "stream",
     "text": [
      "                   all        154      11423      0.944      0.838      0.881      0.704\n"
     ]
    },
    {
     "name": "stderr",
     "output_type": "stream",
     "text": [
      "\n"
     ]
    },
    {
     "name": "stdout",
     "output_type": "stream",
     "text": [
      "\n",
      "      Epoch    GPU_mem   box_loss   cls_loss   dfl_loss  Instances       Size\n"
     ]
    },
    {
     "name": "stderr",
     "output_type": "stream",
     "text": [
      "       9/50         0G     0.9043     0.5167     0.8815        591        640: 100%|██████████| 77/77 [04:52<00:00,  3.80s/it]\n",
      "                 Class     Images  Instances      Box(P          R      mAP50  mAP50-95): 100%|██████████| 5/5 [00:12<00:00,  2.47s/it]"
     ]
    },
    {
     "name": "stdout",
     "output_type": "stream",
     "text": [
      "                   all        154      11423      0.945      0.848      0.882      0.697\n",
      "\n",
      "      Epoch    GPU_mem   box_loss   cls_loss   dfl_loss  Instances       Size\n"
     ]
    },
    {
     "name": "stderr",
     "output_type": "stream",
     "text": [
      "\n",
      "      10/50         0G     0.8615      0.498     0.8734        809        640: 100%|██████████| 77/77 [04:56<00:00,  3.85s/it]\n",
      "                 Class     Images  Instances      Box(P          R      mAP50  mAP50-95): 100%|██████████| 5/5 [00:12<00:00,  2.46s/it]"
     ]
    },
    {
     "name": "stdout",
     "output_type": "stream",
     "text": [
      "                   all        154      11423      0.944      0.842      0.885      0.709\n",
      "\n",
      "      Epoch    GPU_mem   box_loss   cls_loss   dfl_loss  Instances       Size\n"
     ]
    },
    {
     "name": "stderr",
     "output_type": "stream",
     "text": [
      "\n",
      "      11/50         0G     0.8317     0.4841     0.8709        501        640: 100%|██████████| 77/77 [04:48<00:00,  3.75s/it]\n",
      "                 Class     Images  Instances      Box(P          R      mAP50  mAP50-95): 100%|██████████| 5/5 [00:12<00:00,  2.50s/it]"
     ]
    },
    {
     "name": "stdout",
     "output_type": "stream",
     "text": [
      "                   all        154      11423      0.945      0.838      0.883      0.713\n"
     ]
    },
    {
     "name": "stderr",
     "output_type": "stream",
     "text": [
      "\n"
     ]
    },
    {
     "name": "stdout",
     "output_type": "stream",
     "text": [
      "\n",
      "      Epoch    GPU_mem   box_loss   cls_loss   dfl_loss  Instances       Size\n"
     ]
    },
    {
     "name": "stderr",
     "output_type": "stream",
     "text": [
      "      12/50         0G     0.8425     0.4817     0.8693        565        640: 100%|██████████| 77/77 [04:47<00:00,  3.73s/it]\n",
      "                 Class     Images  Instances      Box(P          R      mAP50  mAP50-95): 100%|██████████| 5/5 [00:12<00:00,  2.41s/it]"
     ]
    },
    {
     "name": "stdout",
     "output_type": "stream",
     "text": [
      "                   all        154      11423      0.945      0.844       0.89      0.715\n",
      "\n",
      "      Epoch    GPU_mem   box_loss   cls_loss   dfl_loss  Instances       Size\n"
     ]
    },
    {
     "name": "stderr",
     "output_type": "stream",
     "text": [
      "\n",
      "      13/50         0G     0.8162     0.4715     0.8682        760        640: 100%|██████████| 77/77 [04:46<00:00,  3.72s/it]\n",
      "                 Class     Images  Instances      Box(P          R      mAP50  mAP50-95): 100%|██████████| 5/5 [00:12<00:00,  2.46s/it]"
     ]
    },
    {
     "name": "stdout",
     "output_type": "stream",
     "text": [
      "                   all        154      11423      0.947      0.839      0.884       0.71\n",
      "\n",
      "      Epoch    GPU_mem   box_loss   cls_loss   dfl_loss  Instances       Size\n"
     ]
    },
    {
     "name": "stderr",
     "output_type": "stream",
     "text": [
      "\n",
      "      14/50         0G     0.8239     0.4741     0.8666       1047        640: 100%|██████████| 77/77 [04:49<00:00,  3.75s/it]\n",
      "                 Class     Images  Instances      Box(P          R      mAP50  mAP50-95): 100%|██████████| 5/5 [00:12<00:00,  2.50s/it]"
     ]
    },
    {
     "name": "stdout",
     "output_type": "stream",
     "text": [
      "                   all        154      11423      0.944       0.85      0.892       0.72\n",
      "\n",
      "      Epoch    GPU_mem   box_loss   cls_loss   dfl_loss  Instances       Size\n"
     ]
    },
    {
     "name": "stderr",
     "output_type": "stream",
     "text": [
      "\n",
      "      15/50         0G     0.8032      0.465     0.8627        514        640: 100%|██████████| 77/77 [04:48<00:00,  3.75s/it]\n",
      "                 Class     Images  Instances      Box(P          R      mAP50  mAP50-95): 100%|██████████| 5/5 [00:12<00:00,  2.44s/it]"
     ]
    },
    {
     "name": "stdout",
     "output_type": "stream",
     "text": [
      "                   all        154      11423      0.951      0.837      0.892      0.725\n",
      "\n",
      "      Epoch    GPU_mem   box_loss   cls_loss   dfl_loss  Instances       Size\n"
     ]
    },
    {
     "name": "stderr",
     "output_type": "stream",
     "text": [
      "\n",
      "      16/50         0G     0.8196     0.4701     0.8642        620        640: 100%|██████████| 77/77 [04:48<00:00,  3.75s/it]\n",
      "                 Class     Images  Instances      Box(P          R      mAP50  mAP50-95): 100%|██████████| 5/5 [00:12<00:00,  2.43s/it]"
     ]
    },
    {
     "name": "stdout",
     "output_type": "stream",
     "text": [
      "                   all        154      11423      0.948      0.847      0.892       0.72\n",
      "\n",
      "      Epoch    GPU_mem   box_loss   cls_loss   dfl_loss  Instances       Size\n"
     ]
    },
    {
     "name": "stderr",
     "output_type": "stream",
     "text": [
      "\n",
      "      17/50         0G     0.8103     0.4643     0.8649        488        640: 100%|██████████| 77/77 [05:28<00:00,  4.27s/it]\n",
      "                 Class     Images  Instances      Box(P          R      mAP50  mAP50-95): 100%|██████████| 5/5 [00:21<00:00,  4.31s/it]"
     ]
    },
    {
     "name": "stdout",
     "output_type": "stream",
     "text": [
      "                   all        154      11423      0.947      0.848      0.892      0.725\n"
     ]
    },
    {
     "name": "stderr",
     "output_type": "stream",
     "text": [
      "\n"
     ]
    },
    {
     "name": "stdout",
     "output_type": "stream",
     "text": [
      "\n",
      "      Epoch    GPU_mem   box_loss   cls_loss   dfl_loss  Instances       Size\n"
     ]
    },
    {
     "name": "stderr",
     "output_type": "stream",
     "text": [
      "      18/50         0G     0.7934     0.4598      0.861        737        640: 100%|██████████| 77/77 [08:08<00:00,  6.35s/it]\n",
      "                 Class     Images  Instances      Box(P          R      mAP50  mAP50-95): 100%|██████████| 5/5 [00:20<00:00,  4.18s/it]"
     ]
    },
    {
     "name": "stdout",
     "output_type": "stream",
     "text": [
      "                   all        154      11423      0.946      0.849      0.896      0.731\n"
     ]
    },
    {
     "name": "stderr",
     "output_type": "stream",
     "text": [
      "\n"
     ]
    },
    {
     "name": "stdout",
     "output_type": "stream",
     "text": [
      "\n",
      "      Epoch    GPU_mem   box_loss   cls_loss   dfl_loss  Instances       Size\n"
     ]
    },
    {
     "name": "stderr",
     "output_type": "stream",
     "text": [
      "      19/50         0G     0.7903     0.4553     0.8589        797        640: 100%|██████████| 77/77 [08:48<00:00,  6.86s/it]\n",
      "                 Class     Images  Instances      Box(P          R      mAP50  mAP50-95): 100%|██████████| 5/5 [00:26<00:00,  5.29s/it]"
     ]
    },
    {
     "name": "stdout",
     "output_type": "stream",
     "text": [
      "                   all        154      11423       0.95      0.845      0.893       0.73\n"
     ]
    },
    {
     "name": "stderr",
     "output_type": "stream",
     "text": [
      "\n"
     ]
    },
    {
     "name": "stdout",
     "output_type": "stream",
     "text": [
      "\n",
      "      Epoch    GPU_mem   box_loss   cls_loss   dfl_loss  Instances       Size\n"
     ]
    },
    {
     "name": "stderr",
     "output_type": "stream",
     "text": [
      "      20/50         0G     0.8002     0.4598     0.8627        988        640: 100%|██████████| 77/77 [09:28<00:00,  7.38s/it]\n",
      "                 Class     Images  Instances      Box(P          R      mAP50  mAP50-95): 100%|██████████| 5/5 [00:25<00:00,  5.14s/it]"
     ]
    },
    {
     "name": "stdout",
     "output_type": "stream",
     "text": [
      "                   all        154      11423      0.941       0.84      0.892      0.718\n"
     ]
    },
    {
     "name": "stderr",
     "output_type": "stream",
     "text": [
      "\n"
     ]
    },
    {
     "name": "stdout",
     "output_type": "stream",
     "text": [
      "\n",
      "      Epoch    GPU_mem   box_loss   cls_loss   dfl_loss  Instances       Size\n"
     ]
    },
    {
     "name": "stderr",
     "output_type": "stream",
     "text": [
      "      21/50         0G      0.794     0.4537     0.8593        882        640: 100%|██████████| 77/77 [09:21<00:00,  7.29s/it]\n",
      "                 Class     Images  Instances      Box(P          R      mAP50  mAP50-95): 100%|██████████| 5/5 [00:25<00:00,  5.13s/it]"
     ]
    },
    {
     "name": "stdout",
     "output_type": "stream",
     "text": [
      "                   all        154      11423      0.943      0.849      0.896      0.728\n"
     ]
    },
    {
     "name": "stderr",
     "output_type": "stream",
     "text": [
      "\n"
     ]
    },
    {
     "name": "stdout",
     "output_type": "stream",
     "text": [
      "\n",
      "      Epoch    GPU_mem   box_loss   cls_loss   dfl_loss  Instances       Size\n"
     ]
    },
    {
     "name": "stderr",
     "output_type": "stream",
     "text": [
      "      22/50         0G     0.7866      0.453     0.8576        983        640: 100%|██████████| 77/77 [09:26<00:00,  7.36s/it]\n",
      "                 Class     Images  Instances      Box(P          R      mAP50  mAP50-95): 100%|██████████| 5/5 [00:25<00:00,  5.12s/it]"
     ]
    },
    {
     "name": "stdout",
     "output_type": "stream",
     "text": [
      "                   all        154      11423      0.953      0.847      0.895      0.728\n"
     ]
    },
    {
     "name": "stderr",
     "output_type": "stream",
     "text": [
      "\n"
     ]
    },
    {
     "name": "stdout",
     "output_type": "stream",
     "text": [
      "\n",
      "      Epoch    GPU_mem   box_loss   cls_loss   dfl_loss  Instances       Size\n"
     ]
    },
    {
     "name": "stderr",
     "output_type": "stream",
     "text": [
      "      23/50         0G     0.7876     0.4502     0.8604        512        640: 100%|██████████| 77/77 [04:59<00:00,  3.89s/it]\n",
      "                 Class     Images  Instances      Box(P          R      mAP50  mAP50-95): 100%|██████████| 5/5 [00:12<00:00,  2.42s/it]"
     ]
    },
    {
     "name": "stdout",
     "output_type": "stream",
     "text": [
      "                   all        154      11423      0.945      0.847      0.897      0.732\n"
     ]
    },
    {
     "name": "stderr",
     "output_type": "stream",
     "text": [
      "\n"
     ]
    },
    {
     "name": "stdout",
     "output_type": "stream",
     "text": [
      "\n",
      "      Epoch    GPU_mem   box_loss   cls_loss   dfl_loss  Instances       Size\n"
     ]
    },
    {
     "name": "stderr",
     "output_type": "stream",
     "text": [
      "      24/50         0G     0.7884     0.4522     0.8576        735        640: 100%|██████████| 77/77 [04:54<00:00,  3.82s/it]\n",
      "                 Class     Images  Instances      Box(P          R      mAP50  mAP50-95): 100%|██████████| 5/5 [00:12<00:00,  2.48s/it]"
     ]
    },
    {
     "name": "stdout",
     "output_type": "stream",
     "text": [
      "                   all        154      11423      0.948      0.849      0.895      0.728\n",
      "\n",
      "      Epoch    GPU_mem   box_loss   cls_loss   dfl_loss  Instances       Size\n"
     ]
    },
    {
     "name": "stderr",
     "output_type": "stream",
     "text": [
      "\n",
      "      25/50         0G     0.7858     0.4482     0.8599        725        640: 100%|██████████| 77/77 [04:51<00:00,  3.79s/it]\n",
      "                 Class     Images  Instances      Box(P          R      mAP50  mAP50-95): 100%|██████████| 5/5 [00:12<00:00,  2.51s/it]"
     ]
    },
    {
     "name": "stdout",
     "output_type": "stream",
     "text": [
      "                   all        154      11423      0.948      0.848      0.896      0.731\n",
      "\n",
      "      Epoch    GPU_mem   box_loss   cls_loss   dfl_loss  Instances       Size\n"
     ]
    },
    {
     "name": "stderr",
     "output_type": "stream",
     "text": [
      "\n",
      "      26/50         0G     0.8094     0.4591     0.8597        998        640: 100%|██████████| 77/77 [04:52<00:00,  3.80s/it]\n",
      "                 Class     Images  Instances      Box(P          R      mAP50  mAP50-95): 100%|██████████| 5/5 [00:12<00:00,  2.55s/it]"
     ]
    },
    {
     "name": "stdout",
     "output_type": "stream",
     "text": [
      "                   all        154      11423      0.952      0.845      0.892      0.709\n",
      "\n",
      "      Epoch    GPU_mem   box_loss   cls_loss   dfl_loss  Instances       Size\n"
     ]
    },
    {
     "name": "stderr",
     "output_type": "stream",
     "text": [
      "\n",
      "      27/50         0G     0.8112     0.4538     0.8622        601        640: 100%|██████████| 77/77 [04:53<00:00,  3.81s/it]\n",
      "                 Class     Images  Instances      Box(P          R      mAP50  mAP50-95): 100%|██████████| 5/5 [00:11<00:00,  2.40s/it]"
     ]
    },
    {
     "name": "stdout",
     "output_type": "stream",
     "text": [
      "                   all        154      11423       0.95      0.845      0.893      0.718\n",
      "\n",
      "      Epoch    GPU_mem   box_loss   cls_loss   dfl_loss  Instances       Size\n"
     ]
    },
    {
     "name": "stderr",
     "output_type": "stream",
     "text": [
      "\n",
      "      28/50         0G     0.7879     0.4473     0.8578        827        640: 100%|██████████| 77/77 [04:54<00:00,  3.83s/it]\n",
      "                 Class     Images  Instances      Box(P          R      mAP50  mAP50-95): 100%|██████████| 5/5 [00:12<00:00,  2.52s/it]"
     ]
    },
    {
     "name": "stdout",
     "output_type": "stream",
     "text": [
      "                   all        154      11423      0.947       0.85      0.899      0.737\n",
      "\n",
      "      Epoch    GPU_mem   box_loss   cls_loss   dfl_loss  Instances       Size\n"
     ]
    },
    {
     "name": "stderr",
     "output_type": "stream",
     "text": [
      "\n",
      "      29/50         0G     0.7608     0.4385      0.853        807        640: 100%|██████████| 77/77 [04:49<00:00,  3.77s/it]\n",
      "                 Class     Images  Instances      Box(P          R      mAP50  mAP50-95): 100%|██████████| 5/5 [00:12<00:00,  2.50s/it]"
     ]
    },
    {
     "name": "stdout",
     "output_type": "stream",
     "text": [
      "                   all        154      11423      0.948      0.849      0.899      0.739\n"
     ]
    },
    {
     "name": "stderr",
     "output_type": "stream",
     "text": [
      "\n"
     ]
    },
    {
     "name": "stdout",
     "output_type": "stream",
     "text": [
      "\n",
      "      Epoch    GPU_mem   box_loss   cls_loss   dfl_loss  Instances       Size\n"
     ]
    },
    {
     "name": "stderr",
     "output_type": "stream",
     "text": [
      "      30/50         0G     0.7811     0.4438     0.8545        970        640: 100%|██████████| 77/77 [04:51<00:00,  3.79s/it]\n",
      "                 Class     Images  Instances      Box(P          R      mAP50  mAP50-95): 100%|██████████| 5/5 [00:12<00:00,  2.55s/it]"
     ]
    },
    {
     "name": "stdout",
     "output_type": "stream",
     "text": [
      "                   all        154      11423      0.954      0.851      0.898       0.74\n"
     ]
    },
    {
     "name": "stderr",
     "output_type": "stream",
     "text": [
      "\n"
     ]
    },
    {
     "name": "stdout",
     "output_type": "stream",
     "text": [
      "\n",
      "      Epoch    GPU_mem   box_loss   cls_loss   dfl_loss  Instances       Size\n"
     ]
    },
    {
     "name": "stderr",
     "output_type": "stream",
     "text": [
      "      31/50         0G     0.7721     0.4392     0.8557        734        640: 100%|██████████| 77/77 [04:54<00:00,  3.82s/it]\n",
      "                 Class     Images  Instances      Box(P          R      mAP50  mAP50-95): 100%|██████████| 5/5 [00:12<00:00,  2.46s/it]"
     ]
    },
    {
     "name": "stdout",
     "output_type": "stream",
     "text": [
      "                   all        154      11423      0.954       0.85      0.901      0.738\n",
      "\n",
      "      Epoch    GPU_mem   box_loss   cls_loss   dfl_loss  Instances       Size\n"
     ]
    },
    {
     "name": "stderr",
     "output_type": "stream",
     "text": [
      "\n",
      "      32/50         0G     0.7561     0.4347     0.8504        822        640: 100%|██████████| 77/77 [04:47<00:00,  3.74s/it]\n",
      "                 Class     Images  Instances      Box(P          R      mAP50  mAP50-95): 100%|██████████| 5/5 [00:12<00:00,  2.43s/it]"
     ]
    },
    {
     "name": "stdout",
     "output_type": "stream",
     "text": [
      "                   all        154      11423       0.95      0.849        0.9      0.737\n",
      "\n",
      "      Epoch    GPU_mem   box_loss   cls_loss   dfl_loss  Instances       Size\n"
     ]
    },
    {
     "name": "stderr",
     "output_type": "stream",
     "text": [
      "\n",
      "      33/50         0G     0.7564     0.4301     0.8524        686        640: 100%|██████████| 77/77 [04:51<00:00,  3.78s/it]\n",
      "                 Class     Images  Instances      Box(P          R      mAP50  mAP50-95): 100%|██████████| 5/5 [00:12<00:00,  2.51s/it]"
     ]
    },
    {
     "name": "stdout",
     "output_type": "stream",
     "text": [
      "                   all        154      11423      0.956      0.847      0.897      0.735\n",
      "\n",
      "      Epoch    GPU_mem   box_loss   cls_loss   dfl_loss  Instances       Size\n"
     ]
    },
    {
     "name": "stderr",
     "output_type": "stream",
     "text": [
      "\n",
      "      34/50         0G     0.7626     0.4336     0.8545        954        640: 100%|██████████| 77/77 [04:49<00:00,  3.76s/it]\n",
      "                 Class     Images  Instances      Box(P          R      mAP50  mAP50-95): 100%|██████████| 5/5 [00:12<00:00,  2.46s/it]"
     ]
    },
    {
     "name": "stdout",
     "output_type": "stream",
     "text": [
      "                   all        154      11423       0.95       0.85      0.899      0.737\n"
     ]
    },
    {
     "name": "stderr",
     "output_type": "stream",
     "text": [
      "\n"
     ]
    },
    {
     "name": "stdout",
     "output_type": "stream",
     "text": [
      "\n",
      "      Epoch    GPU_mem   box_loss   cls_loss   dfl_loss  Instances       Size\n"
     ]
    },
    {
     "name": "stderr",
     "output_type": "stream",
     "text": [
      "      35/50         0G      0.761     0.4339     0.8553        911        640: 100%|██████████| 77/77 [07:34<00:00,  5.91s/it]\n",
      "                 Class     Images  Instances      Box(P          R      mAP50  mAP50-95): 100%|██████████| 5/5 [00:21<00:00,  4.22s/it]"
     ]
    },
    {
     "name": "stdout",
     "output_type": "stream",
     "text": [
      "                   all        154      11423      0.949       0.85      0.899      0.738\n"
     ]
    },
    {
     "name": "stderr",
     "output_type": "stream",
     "text": [
      "\n"
     ]
    },
    {
     "name": "stdout",
     "output_type": "stream",
     "text": [
      "\n",
      "      Epoch    GPU_mem   box_loss   cls_loss   dfl_loss  Instances       Size\n"
     ]
    },
    {
     "name": "stderr",
     "output_type": "stream",
     "text": [
      "      36/50         0G     0.7424     0.4268     0.8537        678        640: 100%|██████████| 77/77 [08:31<00:00,  6.64s/it]\n",
      "                 Class     Images  Instances      Box(P          R      mAP50  mAP50-95): 100%|██████████| 5/5 [00:26<00:00,  5.22s/it]"
     ]
    },
    {
     "name": "stdout",
     "output_type": "stream",
     "text": [
      "                   all        154      11423      0.945      0.852      0.898      0.739\n"
     ]
    },
    {
     "name": "stderr",
     "output_type": "stream",
     "text": [
      "\n"
     ]
    },
    {
     "name": "stdout",
     "output_type": "stream",
     "text": [
      "\n",
      "      Epoch    GPU_mem   box_loss   cls_loss   dfl_loss  Instances       Size\n"
     ]
    },
    {
     "name": "stderr",
     "output_type": "stream",
     "text": [
      "      37/50         0G     0.7618      0.433     0.8522        659        640: 100%|██████████| 77/77 [09:33<00:00,  7.45s/it]\n",
      "                 Class     Images  Instances      Box(P          R      mAP50  mAP50-95): 100%|██████████| 5/5 [00:25<00:00,  5.20s/it]"
     ]
    },
    {
     "name": "stdout",
     "output_type": "stream",
     "text": [
      "                   all        154      11423      0.948       0.85      0.899      0.743\n"
     ]
    },
    {
     "name": "stderr",
     "output_type": "stream",
     "text": [
      "\n"
     ]
    },
    {
     "name": "stdout",
     "output_type": "stream",
     "text": [
      "\n",
      "      Epoch    GPU_mem   box_loss   cls_loss   dfl_loss  Instances       Size\n"
     ]
    },
    {
     "name": "stderr",
     "output_type": "stream",
     "text": [
      "      38/50         0G     0.7562     0.4272     0.8515        635        640: 100%|██████████| 77/77 [09:27<00:00,  7.37s/it]\n",
      "                 Class     Images  Instances      Box(P          R      mAP50  mAP50-95): 100%|██████████| 5/5 [00:26<00:00,  5.24s/it]"
     ]
    },
    {
     "name": "stdout",
     "output_type": "stream",
     "text": [
      "                   all        154      11423      0.947      0.854        0.9      0.737\n"
     ]
    },
    {
     "name": "stderr",
     "output_type": "stream",
     "text": [
      "\n"
     ]
    },
    {
     "name": "stdout",
     "output_type": "stream",
     "text": [
      "\n",
      "      Epoch    GPU_mem   box_loss   cls_loss   dfl_loss  Instances       Size\n"
     ]
    },
    {
     "name": "stderr",
     "output_type": "stream",
     "text": [
      "      39/50         0G       0.75     0.4258     0.8522        794        640: 100%|██████████| 77/77 [08:48<00:00,  6.86s/it]\n",
      "                 Class     Images  Instances      Box(P          R      mAP50  mAP50-95): 100%|██████████| 5/5 [00:12<00:00,  2.46s/it]"
     ]
    },
    {
     "name": "stdout",
     "output_type": "stream",
     "text": [
      "                   all        154      11423      0.947      0.853        0.9      0.742\n",
      "\n",
      "      Epoch    GPU_mem   box_loss   cls_loss   dfl_loss  Instances       Size\n"
     ]
    },
    {
     "name": "stderr",
     "output_type": "stream",
     "text": [
      "\n",
      "      40/50         0G      0.744     0.4239     0.8495        627        640: 100%|██████████| 77/77 [04:51<00:00,  3.79s/it]\n",
      "                 Class     Images  Instances      Box(P          R      mAP50  mAP50-95): 100%|██████████| 5/5 [00:12<00:00,  2.52s/it]"
     ]
    },
    {
     "name": "stdout",
     "output_type": "stream",
     "text": [
      "                   all        154      11423      0.951      0.847        0.9       0.74\n",
      "Closing dataloader mosaic\n"
     ]
    },
    {
     "name": "stderr",
     "output_type": "stream",
     "text": [
      "\n"
     ]
    },
    {
     "name": "stdout",
     "output_type": "stream",
     "text": [
      "\n",
      "      Epoch    GPU_mem   box_loss   cls_loss   dfl_loss  Instances       Size\n"
     ]
    },
    {
     "name": "stderr",
     "output_type": "stream",
     "text": [
      "c:\\Users\\MSI\\Documents\\Thesis_Project\\Automste_Testing_DeepSeek_Model\\word-detect-yolo.v1i.yolov11-obb\\env\\lib\\site-packages\\torch\\utils\\data\\dataloader.py:665: UserWarning: 'pin_memory' argument is set as true but no accelerator is found, then device pinned memory won't be used.\n",
      "  warnings.warn(warn_msg)\n",
      "      41/50         0G     0.6842     0.4038     0.8445        535        640: 100%|██████████| 77/77 [03:29<00:00,  2.72s/it]\n",
      "                 Class     Images  Instances      Box(P          R      mAP50  mAP50-95): 100%|██████████| 5/5 [00:12<00:00,  2.46s/it]"
     ]
    },
    {
     "name": "stdout",
     "output_type": "stream",
     "text": [
      "                   all        154      11423      0.949      0.852        0.9      0.738\n"
     ]
    },
    {
     "name": "stderr",
     "output_type": "stream",
     "text": [
      "\n"
     ]
    },
    {
     "name": "stdout",
     "output_type": "stream",
     "text": [
      "\n",
      "      Epoch    GPU_mem   box_loss   cls_loss   dfl_loss  Instances       Size\n"
     ]
    },
    {
     "name": "stderr",
     "output_type": "stream",
     "text": [
      "      42/50         0G     0.6752     0.3957     0.8415        639        640: 100%|██████████| 77/77 [03:31<00:00,  2.75s/it]\n",
      "                 Class     Images  Instances      Box(P          R      mAP50  mAP50-95): 100%|██████████| 5/5 [00:12<00:00,  2.51s/it]"
     ]
    },
    {
     "name": "stdout",
     "output_type": "stream",
     "text": [
      "                   all        154      11423      0.953      0.849        0.9      0.744\n",
      "\n",
      "      Epoch    GPU_mem   box_loss   cls_loss   dfl_loss  Instances       Size\n"
     ]
    },
    {
     "name": "stderr",
     "output_type": "stream",
     "text": [
      "\n",
      "      43/50         0G     0.6663     0.3912      0.843        564        640: 100%|██████████| 77/77 [03:34<00:00,  2.79s/it]\n",
      "                 Class     Images  Instances      Box(P          R      mAP50  mAP50-95): 100%|██████████| 5/5 [00:12<00:00,  2.45s/it]"
     ]
    },
    {
     "name": "stdout",
     "output_type": "stream",
     "text": [
      "                   all        154      11423      0.945      0.854      0.899      0.743\n",
      "\n",
      "      Epoch    GPU_mem   box_loss   cls_loss   dfl_loss  Instances       Size\n"
     ]
    },
    {
     "name": "stderr",
     "output_type": "stream",
     "text": [
      "\n",
      "      44/50         0G     0.6708     0.3929     0.8422        575        640: 100%|██████████| 77/77 [03:35<00:00,  2.80s/it]\n",
      "                 Class     Images  Instances      Box(P          R      mAP50  mAP50-95): 100%|██████████| 5/5 [00:12<00:00,  2.44s/it]"
     ]
    },
    {
     "name": "stdout",
     "output_type": "stream",
     "text": [
      "                   all        154      11423       0.95      0.852        0.9      0.745\n",
      "\n",
      "      Epoch    GPU_mem   box_loss   cls_loss   dfl_loss  Instances       Size\n"
     ]
    },
    {
     "name": "stderr",
     "output_type": "stream",
     "text": [
      "\n",
      "      45/50         0G     0.6742     0.3916     0.8435        517        640: 100%|██████████| 77/77 [03:28<00:00,  2.71s/it]\n",
      "                 Class     Images  Instances      Box(P          R      mAP50  mAP50-95): 100%|██████████| 5/5 [00:12<00:00,  2.44s/it]"
     ]
    },
    {
     "name": "stdout",
     "output_type": "stream",
     "text": [
      "                   all        154      11423       0.95      0.852      0.901      0.744\n",
      "\n",
      "      Epoch    GPU_mem   box_loss   cls_loss   dfl_loss  Instances       Size\n"
     ]
    },
    {
     "name": "stderr",
     "output_type": "stream",
     "text": [
      "\n",
      "      46/50         0G     0.6677     0.3864      0.842        586        640: 100%|██████████| 77/77 [03:24<00:00,  2.66s/it]\n",
      "                 Class     Images  Instances      Box(P          R      mAP50  mAP50-95): 100%|██████████| 5/5 [00:12<00:00,  2.44s/it]"
     ]
    },
    {
     "name": "stdout",
     "output_type": "stream",
     "text": [
      "                   all        154      11423      0.947      0.853        0.9      0.745\n",
      "\n",
      "      Epoch    GPU_mem   box_loss   cls_loss   dfl_loss  Instances       Size\n"
     ]
    },
    {
     "name": "stderr",
     "output_type": "stream",
     "text": [
      "\n",
      "      47/50         0G     0.6643     0.3852      0.842        524        640: 100%|██████████| 77/77 [03:31<00:00,  2.74s/it]\n",
      "                 Class     Images  Instances      Box(P          R      mAP50  mAP50-95): 100%|██████████| 5/5 [00:12<00:00,  2.49s/it]"
     ]
    },
    {
     "name": "stdout",
     "output_type": "stream",
     "text": [
      "                   all        154      11423      0.947      0.854      0.901      0.747\n"
     ]
    },
    {
     "name": "stderr",
     "output_type": "stream",
     "text": [
      "\n"
     ]
    },
    {
     "name": "stdout",
     "output_type": "stream",
     "text": [
      "\n",
      "      Epoch    GPU_mem   box_loss   cls_loss   dfl_loss  Instances       Size\n"
     ]
    },
    {
     "name": "stderr",
     "output_type": "stream",
     "text": [
      "      48/50         0G     0.6578      0.382     0.8394        562        640: 100%|██████████| 77/77 [03:26<00:00,  2.68s/it]\n",
      "                 Class     Images  Instances      Box(P          R      mAP50  mAP50-95): 100%|██████████| 5/5 [00:12<00:00,  2.43s/it]"
     ]
    },
    {
     "name": "stdout",
     "output_type": "stream",
     "text": [
      "                   all        154      11423      0.944      0.855      0.901      0.747\n",
      "\n",
      "      Epoch    GPU_mem   box_loss   cls_loss   dfl_loss  Instances       Size\n"
     ]
    },
    {
     "name": "stderr",
     "output_type": "stream",
     "text": [
      "\n",
      "      49/50         0G     0.6656     0.3857     0.8417        560        640: 100%|██████████| 77/77 [03:29<00:00,  2.72s/it]\n",
      "                 Class     Images  Instances      Box(P          R      mAP50  mAP50-95): 100%|██████████| 5/5 [00:12<00:00,  2.47s/it]"
     ]
    },
    {
     "name": "stdout",
     "output_type": "stream",
     "text": [
      "                   all        154      11423      0.947      0.854      0.901      0.745\n",
      "\n",
      "      Epoch    GPU_mem   box_loss   cls_loss   dfl_loss  Instances       Size\n"
     ]
    },
    {
     "name": "stderr",
     "output_type": "stream",
     "text": [
      "\n",
      "      50/50         0G     0.6644     0.3827     0.8402        547        640: 100%|██████████| 77/77 [03:32<00:00,  2.76s/it]\n",
      "                 Class     Images  Instances      Box(P          R      mAP50  mAP50-95): 100%|██████████| 5/5 [00:12<00:00,  2.54s/it]"
     ]
    },
    {
     "name": "stdout",
     "output_type": "stream",
     "text": [
      "                   all        154      11423      0.948      0.854      0.901      0.747\n",
      "\n",
      "50 epochs completed in 4.721 hours.\n"
     ]
    },
    {
     "name": "stderr",
     "output_type": "stream",
     "text": [
      "\n"
     ]
    },
    {
     "name": "stdout",
     "output_type": "stream",
     "text": [
      "Optimizer stripped from C:\\Users\\MSI\\Documents\\Thesis_Project\\Automste_Testing_DeepSeek_Model\\word-detect-yolo.v1i.yolov11-obb\\run12\\weights\\last.pt, 5.5MB\n",
      "Optimizer stripped from C:\\Users\\MSI\\Documents\\Thesis_Project\\Automste_Testing_DeepSeek_Model\\word-detect-yolo.v1i.yolov11-obb\\run12\\weights\\best.pt, 5.5MB\n",
      "\n",
      "Validating C:\\Users\\MSI\\Documents\\Thesis_Project\\Automste_Testing_DeepSeek_Model\\word-detect-yolo.v1i.yolov11-obb\\run12\\weights\\best.pt...\n",
      "Ultralytics 8.3.116  Python-3.9.0 torch-2.7.0+cpu CPU (13th Gen Intel Core(TM) i7-13620H)\n",
      "YOLO11n summary (fused): 100 layers, 2,582,347 parameters, 0 gradients, 6.3 GFLOPs\n"
     ]
    },
    {
     "name": "stderr",
     "output_type": "stream",
     "text": [
      "                 Class     Images  Instances      Box(P          R      mAP50  mAP50-95): 100%|██████████| 5/5 [00:09<00:00,  2.00s/it]\n"
     ]
    },
    {
     "name": "stdout",
     "output_type": "stream",
     "text": [
      "                   all        154      11423      0.947      0.854      0.901      0.747\n",
      "Speed: 0.8ms preprocess, 42.9ms inference, 0.0ms loss, 1.0ms postprocess per image\n",
      "Results saved to \u001b[1mC:\\Users\\MSI\\Documents\\Thesis_Project\\Automste_Testing_DeepSeek_Model\\word-detect-yolo.v1i.yolov11-obb\\run12\u001b[0m\n"
     ]
    }
   ],
   "source": [
    "results = model.train(\n",
    "    data=\"C:/Users/MSI/Documents/Thesis_Project/Automste_Testing_DeepSeek_Model/word-detect-yolo.v1i.yolov11-obb/data.yaml\",\n",
    "    epochs=50,\n",
    "    imgsz=640,\n",
    "    project=\"C:/Users/MSI/Documents/Thesis_Project/Automste_Testing_DeepSeek_Model/word-detect-yolo.v1i.yolov11-obb\",  # Output directory\n",
    "    name=\"run1\"  # Subfolder name for this run\n",
    ")"
   ]
  },
  {
   "cell_type": "code",
   "execution_count": 2,
   "id": "675f21f4",
   "metadata": {},
   "outputs": [],
   "source": [
    "from ultralytics import YOLO"
   ]
  },
  {
   "cell_type": "code",
   "execution_count": 2,
   "id": "cf540fd2",
   "metadata": {},
   "outputs": [
    {
     "name": "stdout",
     "output_type": "stream",
     "text": [
      "\n",
      "image 1/1 C:\\Users\\MSI\\Documents\\Thesis_Project\\Automste_Testing_DeepSeek_Model\\word-detect-yolo.v1i.yolov11-obb\\test\\images\\m04-123_png.rf.915d5bb355556d016f2c1a8d395e8df7.jpg: 640x640 78 words, 85.7ms\n",
      "Speed: 2.6ms preprocess, 85.7ms inference, 1.0ms postprocess per image at shape (1, 3, 640, 640)\n",
      "ultralytics.engine.results.Results object with attributes:\n",
      "\n",
      "boxes: ultralytics.engine.results.Boxes object\n",
      "keypoints: None\n",
      "masks: None\n",
      "names: {0: 'word'}\n",
      "obb: None\n",
      "orig_img: array([[[213, 213, 213],\n",
      "        [217, 217, 217],\n",
      "        [219, 219, 219],\n",
      "        ...,\n",
      "        [233, 233, 233],\n",
      "        [232, 232, 232],\n",
      "        [231, 231, 231]],\n",
      "\n",
      "       [[214, 214, 214],\n",
      "        [219, 219, 219],\n",
      "        [221, 221, 221],\n",
      "        ...,\n",
      "        [234, 234, 234],\n",
      "        [232, 232, 232],\n",
      "        [230, 230, 230]],\n",
      "\n",
      "       [[215, 215, 215],\n",
      "        [220, 220, 220],\n",
      "        [222, 222, 222],\n",
      "        ...,\n",
      "        [233, 233, 233],\n",
      "        [230, 230, 230],\n",
      "        [228, 228, 228]],\n",
      "\n",
      "       ...,\n",
      "\n",
      "       [[157, 157, 157],\n",
      "        [175, 175, 175],\n",
      "        [184, 184, 184],\n",
      "        ...,\n",
      "        [237, 237, 237],\n",
      "        [237, 237, 237],\n",
      "        [237, 237, 237]],\n",
      "\n",
      "       [[157, 157, 157],\n",
      "        [175, 175, 175],\n",
      "        [184, 184, 184],\n",
      "        ...,\n",
      "        [237, 237, 237],\n",
      "        [237, 237, 237],\n",
      "        [237, 237, 237]],\n",
      "\n",
      "       [[157, 157, 157],\n",
      "        [175, 175, 175],\n",
      "        [184, 184, 184],\n",
      "        ...,\n",
      "        [237, 237, 237],\n",
      "        [237, 237, 237],\n",
      "        [237, 237, 237]]], dtype=uint8)\n",
      "orig_shape: (640, 640)\n",
      "path: 'C:\\\\Users\\\\MSI\\\\Documents\\\\Thesis_Project\\\\Automste_Testing_DeepSeek_Model\\\\word-detect-yolo.v1i.yolov11-obb\\\\test\\\\images\\\\m04-123_png.rf.915d5bb355556d016f2c1a8d395e8df7.jpg'\n",
      "probs: None\n",
      "save_dir: 'C:\\\\Users\\\\MSI\\\\Documents\\\\Thesis_Project\\\\Automste_Testing_DeepSeek_Model\\\\Fine-Tuning-Deep-Seek_R1\\\\runs\\\\detect\\\\predict'\n",
      "speed: {'preprocess': 2.586899999982961, 'inference': 85.72220000007746, 'postprocess': 0.9595999999874039}\n"
     ]
    }
   ],
   "source": [
    "import os\n",
    "import random\n",
    "\n",
    "# Load the trained model\n",
    "model = YOLO('C:/Users/MSI/Documents/Thesis_Project/Automste_Testing_DeepSeek_Model/word-detect-yolo.v1i.yolov11-obb/run1/weights/best.pt')\n",
    "\n",
    "# Set the dataset location\n",
    "dataset_location = \"C:/Users/MSI/Documents/Thesis_Project/Automste_Testing_DeepSeek_Model/word-detect-yolo.v1i.yolov11-obb\"\n",
    "\n",
    "# Pick a random test image\n",
    "random_file = random.choice(os.listdir(f\"{dataset_location}/test/images\"))\n",
    "file_name = os.path.join(f\"{dataset_location}/test/images\", random_file)\n",
    "\n",
    "# Run the model on that image\n",
    "results = model(file_name)\n",
    "\n",
    "# Print the results\n",
    "print(results[0])"
   ]
  },
  {
   "cell_type": "code",
   "execution_count": 5,
   "id": "25df97bd",
   "metadata": {},
   "outputs": [
    {
     "name": "stderr",
     "output_type": "stream",
     "text": [
      "WARNING: You are using pip version 20.2.3; however, version 25.0.1 is available.\n",
      "You should consider upgrading via the 'c:\\users\\msi\\documents\\thesis_project\\automste_testing_deepseek_model\\word-detect-yolo.v1i.yolov11-obb\\env\\scripts\\python.exe -m pip install --upgrade pip' command.\n"
     ]
    }
   ],
   "source": [
    "!pip install supervision -q"
   ]
  },
  {
   "cell_type": "code",
   "execution_count": 7,
   "id": "c5dabf79",
   "metadata": {},
   "outputs": [
    {
     "name": "stdout",
     "output_type": "stream",
     "text": [
      "\n",
      "image 1/1 c:\\Users\\MSI\\Documents\\Thesis_Project\\Automste_Testing_DeepSeek_Model\\word-detect-yolo.v1i.yolov11-obb\\students_rotated_1.png: 192x640 32 words, 37.3ms\n",
      "Speed: 0.9ms preprocess, 37.3ms inference, 0.6ms postprocess per image at shape (1, 3, 192, 640)\n"
     ]
    },
    {
     "data": {
      "image/png": "[encoded data removed]",
      "text/plain": [
       "<Figure size 1600x1600 with 1 Axes>"
      ]
     },
     "metadata": {},
     "output_type": "display_data"
    },
    {
     "name": "stdout",
     "output_type": "stream",
     "text": [
      "Average confidence (accuracy) for this image: 0.65\n",
      "Ultralytics 8.3.116  Python-3.9.0 torch-2.7.0+cpu CPU (13th Gen Intel Core(TM) i7-13620H)\n",
      "\u001b[34m\u001b[1mval: \u001b[0mFast image access  (ping: 0.00.0 ms, read: 1046.0278.3 MB/s, size: 38.6 KB)\n"
     ]
    },
    {
     "name": "stderr",
     "output_type": "stream",
     "text": [
      "\u001b[34m\u001b[1mval: \u001b[0mScanning C:\\Users\\MSI\\Documents\\Thesis_Project\\Automste_Testing_DeepSeek_Model\\word-detect-yolo.v1i.yolov11-obb\\valid\\labels.cache... 154 images, 0 backgrounds, 0 corrupt: 100%|██████████| 154/154 [00:00<?, ?it/s]"
     ]
    },
    {
     "name": "stdout",
     "output_type": "stream",
     "text": [
      "\u001b[34m\u001b[1mval: \u001b[0mC:\\Users\\MSI\\Documents\\Thesis_Project\\Automste_Testing_DeepSeek_Model\\word-detect-yolo.v1i.yolov11-obb\\valid\\images\\b05-088_png.rf.e8196fb78748c7a7883bfa1c8d6c344b.jpg: 77 duplicate labels removed\n",
      "\u001b[34m\u001b[1mval: \u001b[0mC:\\Users\\MSI\\Documents\\Thesis_Project\\Automste_Testing_DeepSeek_Model\\word-detect-yolo.v1i.yolov11-obb\\valid\\images\\d06-072_png.rf.c2d7888c349dc0bfd50adf8028de9366.jpg: 2 duplicate labels removed\n",
      "\u001b[34m\u001b[1mval: \u001b[0mC:\\Users\\MSI\\Documents\\Thesis_Project\\Automste_Testing_DeepSeek_Model\\word-detect-yolo.v1i.yolov11-obb\\valid\\images\\g06-011f_png.rf.6f1057d63ff1b76b194a7b93bff5add0.jpg: 109 duplicate labels removed\n",
      "\u001b[34m\u001b[1mval: \u001b[0mC:\\Users\\MSI\\Documents\\Thesis_Project\\Automste_Testing_DeepSeek_Model\\word-detect-yolo.v1i.yolov11-obb\\valid\\images\\m01-149_png.rf.6b51a1de657c9e6e625c2ba58df3b8d5.jpg: 91 duplicate labels removed\n"
     ]
    },
    {
     "name": "stderr",
     "output_type": "stream",
     "text": [
      "\n",
      "c:\\Users\\MSI\\Documents\\Thesis_Project\\Automste_Testing_DeepSeek_Model\\word-detect-yolo.v1i.yolov11-obb\\env\\lib\\site-packages\\torch\\utils\\data\\dataloader.py:665: UserWarning: 'pin_memory' argument is set as true but no accelerator is found, then device pinned memory won't be used.\n",
      "  warnings.warn(warn_msg)\n",
      "                 Class     Images  Instances      Box(P          R      mAP50  mAP50-95): 100%|██████████| 10/10 [00:09<00:00,  1.10it/s]\n"
     ]
    },
    {
     "name": "stdout",
     "output_type": "stream",
     "text": [
      "                   all        154      11423      0.957      0.842      0.893      0.733\n",
      "Speed: 0.6ms preprocess, 38.2ms inference, 0.0ms loss, 1.0ms postprocess per image\n",
      "Results saved to \u001b[1mC:\\Users\\MSI\\Documents\\Thesis_Project\\Automste_Testing_DeepSeek_Model\\Fine-Tuning-Deep-Seek_R1\\runs\\detect\\val18\u001b[0m\n",
      "\n",
      "YOLOv11 Model Accuracy Metrics:\n",
      "Precision: 0.957\n",
      "Recall: 0.842\n",
      "mAP@0.5: 0.893\n",
      "mAP@0.5:0.95: 0.733\n"
     ]
    },
    {
     "data": {
      "image/png": "[encoded data removed]",
      "text/plain": [
       "<Figure size 800x500 with 1 Axes>"
      ]
     },
     "metadata": {},
     "output_type": "display_data"
    }
   ],
   "source": [
    "%matplotlib inline\n",
    "import cv2\n",
    "import matplotlib.pyplot as plt\n",
    "from ultralytics import YOLO\n",
    "\n",
    "# === Load the trained YOLO model ===\n",
    "model = YOLO('C:/Users/MSI/Documents/Thesis_Project/Automste_Testing_DeepSeek_Model/word-detect-yolo.v1i.yolov11-obb/run1/weights/best.pt')\n",
    "\n",
    "# === Predict on a single image ===\n",
    "image_path = 'students_rotated_1.png'\n",
    "results = model.predict(image_path, conf=0.05, iou=0.5)\n",
    "\n",
    "# 🖼️ Plot the detections\n",
    "annotated_frame = results[0].plot(\n",
    "    labels=True,\n",
    "    font_size=8,\n",
    "    conf=True,\n",
    "    boxes=True,\n",
    "    line_width=1\n",
    ")\n",
    "\n",
    "# 📊 Display the detected image with bounding boxes\n",
    "plt.figure(figsize=(16, 16))\n",
    "plt.imshow(cv2.cvtColor(annotated_frame, cv2.COLOR_BGR2RGB))\n",
    "plt.axis(\"off\")\n",
    "plt.title(\"Predictions on Image\")\n",
    "plt.show()\n",
    "\n",
    "# 🧠 Get the confidence scores\n",
    "confidences = results[0].boxes.conf\n",
    "if confidences is not None and len(confidences) > 0:\n",
    "    avg_confidence = confidences.mean().item()\n",
    "    print(f\"Average confidence (accuracy) for this image: {avg_confidence:.2f}\")\n",
    "else:\n",
    "    print(\"No detections to calculate confidence.\")\n",
    "\n",
    "# === Run validation on the dataset ===\n",
    "val_results = model.val(data=\"C:/Users/MSI/Documents/Thesis_Project/Automste_Testing_DeepSeek_Model/word-detect-yolo.v1i.yolov11-obb/data.yaml\")\n",
    "\n",
    "# 🧪 Print accuracy metrics\n",
    "print(\"\\nYOLOv11 Model Accuracy Metrics:\")\n",
    "print(f\"Precision: {val_results.results_dict['metrics/precision(B)']:.3f}\")\n",
    "print(f\"Recall: {val_results.results_dict['metrics/recall(B)']:.3f}\")\n",
    "print(f\"mAP@0.5: {val_results.results_dict['metrics/mAP50(B)']:.3f}\")\n",
    "print(f\"mAP@0.5:0.95: {val_results.results_dict['metrics/mAP50-95(B)']:.3f}\")\n",
    "\n",
    "# 📈 Plot accuracy metrics\n",
    "metrics = {\n",
    "    \"Precision\": val_results.results_dict['metrics/precision(B)'],\n",
    "    \"Recall\": val_results.results_dict['metrics/recall(B)'],\n",
    "    \"mAP@0.5\": val_results.results_dict['metrics/mAP50(B)'],\n",
    "    \"mAP@0.5:0.95\": val_results.results_dict['metrics/mAP50-95(B)']\n",
    "}\n",
    "\n",
    "plt.figure(figsize=(8, 5))\n",
    "plt.plot(list(metrics.keys()), list(metrics.values()), marker='o', linestyle='-', color='blue')\n",
    "plt.ylim(0, 1.05)\n",
    "plt.title(\"YOLOv11 Model Accuracy Metrics\")\n",
    "plt.xlabel(\"Metric\")\n",
    "plt.ylabel(\"Score\")\n",
    "plt.grid(True)\n",
    "\n",
    "# Annotate values on points\n",
    "for i, (metric, value) in enumerate(metrics.items()):\n",
    "    plt.text(i, value + 0.02, f\"{value:.2f}\", ha='center')\n",
    "\n",
    "plt.tight_layout()\n",
    "plt.show()\n"
   ]
  }
 ],
 "metadata": {
  "kernelspec": {
   "display_name": "env",
   "language": "python",
   "name": "python3"
  },
  "language_info": {
   "codemirror_mode": {
    "name": "ipython",
    "version": 3
   },
   "file_extension": ".py",
   "mimetype": "text/x-python",
   "name": "python",
   "nbconvert_exporter": "python",
   "pygments_lexer": "ipython3",
   "version": "3.9.0"
  }
 },
 "nbformat": 4,
 "nbformat_minor": 5
}
