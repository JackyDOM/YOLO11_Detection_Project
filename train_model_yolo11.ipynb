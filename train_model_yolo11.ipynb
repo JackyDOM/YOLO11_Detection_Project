{
 "cells": [
  {
   "cell_type": "code",
   "execution_count": 1,
   "id": "215433fc",
   "metadata": {},
   "outputs": [],
   "source": [
    "%matplotlib inline"
   ]
  },
  {
   "cell_type": "code",
   "execution_count": 1,
   "id": "2b947a8d",
   "metadata": {},
   "outputs": [
    {
     "name": "stdout",
     "output_type": "stream",
     "text": [
      "Thu Apr 24 22:04:49 2025       \n",
      "+-----------------------------------------------------------------------------------------+\n",
      "| NVIDIA-SMI 572.16                 Driver Version: 572.16         CUDA Version: 12.8     |\n",
      "|-----------------------------------------+------------------------+----------------------+\n",
      "| GPU  Name                  Driver-Model | Bus-Id          Disp.A | Volatile Uncorr. ECC |\n",
      "| Fan  Temp   Perf          Pwr:Usage/Cap |           Memory-Usage | GPU-Util  Compute M. |\n",
      "|                                         |                        |               MIG M. |\n",
      "|=========================================+========================+======================|\n",
      "|   0  NVIDIA GeForce RTX 3050 ...  WDDM  |   00000000:01:00.0  On |                  N/A |\n",
      "| N/A   49C    P8              7W /   42W |     675MiB /   6144MiB |      5%      Default |\n",
      "|                                         |                        |                  N/A |\n",
      "+-----------------------------------------+------------------------+----------------------+\n",
      "                                                                                         \n",
      "+-----------------------------------------------------------------------------------------+\n",
      "| Processes:                                                                              |\n",
      "|  GPU   GI   CI              PID   Type   Process name                        GPU Memory |\n",
      "|        ID   ID                                                               Usage      |\n",
      "|=========================================================================================|\n",
      "|    0   N/A  N/A            3324    C+G   ...ntrolPanel\\SystemSettings.exe      N/A      |\n",
      "|    0   N/A  N/A            6192    C+G   ...__kzh8wxbdkxb8p\\DCv2\\DCv2.exe      N/A      |\n",
      "|    0   N/A  N/A            7740    C+G   ....0.3179.85\\msedgewebview2.exe      N/A      |\n",
      "|    0   N/A  N/A           10208    C+G   ..._cw5n1h2txyewy\\SearchHost.exe      N/A      |\n",
      "|    0   N/A  N/A           12340    C+G   ...t\\Edge\\Application\\msedge.exe      N/A      |\n",
      "|    0   N/A  N/A           14688    C+G   ...ocal\\Programs\\Opera\\opera.exe      N/A      |\n",
      "|    0   N/A  N/A           15208    C+G   C:\\Windows\\explorer.exe               N/A      |\n",
      "|    0   N/A  N/A           17128    C+G   ...ows\\System32\\NahimicSvc64.exe      N/A      |\n",
      "|    0   N/A  N/A           21208    C+G   ...Telegram Desktop\\Telegram.exe      N/A      |\n",
      "|    0   N/A  N/A           22432    C+G   ...y\\StartMenuExperienceHost.exe      N/A      |\n",
      "|    0   N/A  N/A           23876    C+G   ...4__w2gh52qy24etm\\Nahimic3.exe      N/A      |\n",
      "|    0   N/A  N/A           27472    C+G   ...ocal\\Programs\\Opera\\opera.exe      N/A      |\n",
      "|    0   N/A  N/A           29224    C+G   ...5n1h2txyewy\\TextInputHost.exe      N/A      |\n",
      "|    0   N/A  N/A           29376    C+G   ...ms\\Microsoft VS Code\\Code.exe      N/A      |\n",
      "|    0   N/A  N/A           32952    C+G   ...xyewy\\ShellExperienceHost.exe      N/A      |\n",
      "+-----------------------------------------------------------------------------------------+\n"
     ]
    }
   ],
   "source": [
    "!nvidia-smi"
   ]
  },
  {
   "cell_type": "code",
   "execution_count": 1,
   "id": "015a1208",
   "metadata": {},
   "outputs": [
    {
     "name": "stdout",
     "output_type": "stream",
     "text": [
      "c:\\Users\\MSI\\Documents\\Thesis_Project\\Automste_Testing_DeepSeek_Model\\word-detect-yolo.v1i.yolov11-obb\n"
     ]
    }
   ],
   "source": [
    "import os\n",
    "HOME = os.getcwd()\n",
    "print(HOME)"
   ]
  },
  {
   "cell_type": "code",
   "execution_count": 2,
   "id": "ddbf79af",
   "metadata": {},
   "outputs": [
    {
     "name": "stdout",
     "output_type": "stream",
     "text": [
      "Collecting ultralytics\n",
      "  Downloading ultralytics-8.3.116-py3-none-any.whl (984 kB)\n",
      "Collecting pandas>=1.1.4\n",
      "  Using cached pandas-2.2.3-cp39-cp39-win_amd64.whl (11.6 MB)\n",
      "Collecting numpy<=2.1.1,>=1.23.0\n",
      "  Using cached numpy-2.0.2-cp39-cp39-win_amd64.whl (15.9 MB)\n",
      "Collecting py-cpuinfo\n",
      "  Using cached py_cpuinfo-9.0.0-py3-none-any.whl (22 kB)\n",
      "Collecting seaborn>=0.11.0\n",
      "  Using cached seaborn-0.13.2-py3-none-any.whl (294 kB)\n",
      "Collecting pyyaml>=5.3.1\n",
      "  Using cached PyYAML-6.0.2-cp39-cp39-win_amd64.whl (162 kB)\n",
      "Collecting opencv-python>=4.6.0\n",
      "  Using cached opencv_python-4.11.0.86-cp37-abi3-win_amd64.whl (39.5 MB)\n",
      "Collecting pillow>=7.1.2\n",
      "  Downloading pillow-11.2.1-cp39-cp39-win_amd64.whl (2.7 MB)\n",
      "Collecting torch>=1.8.0\n",
      "  Downloading torch-2.7.0-cp39-cp39-win_amd64.whl (212.4 MB)\n",
      "Collecting scipy>=1.4.1\n",
      "  Using cached scipy-1.13.1-cp39-cp39-win_amd64.whl (46.2 MB)\n",
      "Requirement already satisfied: psutil in c:\\users\\msi\\documents\\thesis_project\\automste_testing_deepseek_model\\word-detect-yolo.v1i.yolov11-obb\\env\\lib\\site-packages (from ultralytics) (7.0.0)\n",
      "Collecting tqdm>=4.64.0\n",
      "  Using cached tqdm-4.67.1-py3-none-any.whl (78 kB)\n",
      "Collecting matplotlib>=3.3.0\n",
      "  Using cached matplotlib-3.9.4-cp39-cp39-win_amd64.whl (7.8 MB)\n",
      "Collecting ultralytics-thop>=2.0.0\n",
      "  Using cached ultralytics_thop-2.0.14-py3-none-any.whl (26 kB)\n",
      "Collecting torchvision>=0.9.0\n",
      "  Downloading torchvision-0.22.0-cp39-cp39-win_amd64.whl (1.7 MB)\n",
      "Collecting requests>=2.23.0\n",
      "  Using cached requests-2.32.3-py3-none-any.whl (64 kB)\n",
      "Collecting pytz>=2020.1\n",
      "  Using cached pytz-2025.2-py2.py3-none-any.whl (509 kB)\n",
      "Requirement already satisfied: python-dateutil>=2.8.2 in c:\\users\\msi\\documents\\thesis_project\\automste_testing_deepseek_model\\word-detect-yolo.v1i.yolov11-obb\\env\\lib\\site-packages (from pandas>=1.1.4->ultralytics) (2.9.0.post0)\n",
      "Collecting tzdata>=2022.7\n",
      "  Using cached tzdata-2025.2-py2.py3-none-any.whl (347 kB)\n",
      "Collecting fsspec\n",
      "  Using cached fsspec-2025.3.2-py3-none-any.whl (194 kB)\n",
      "Collecting networkx\n",
      "  Using cached networkx-3.2.1-py3-none-any.whl (1.6 MB)\n",
      "Requirement already satisfied: typing-extensions>=4.10.0 in c:\\users\\msi\\documents\\thesis_project\\automste_testing_deepseek_model\\word-detect-yolo.v1i.yolov11-obb\\env\\lib\\site-packages (from torch>=1.8.0->ultralytics) (4.13.2)\n",
      "Collecting sympy>=1.13.3\n",
      "  Downloading sympy-1.13.3-py3-none-any.whl (6.2 MB)\n",
      "Collecting jinja2\n",
      "  Using cached jinja2-3.1.6-py3-none-any.whl (134 kB)\n",
      "Collecting filelock\n",
      "  Using cached filelock-3.18.0-py3-none-any.whl (16 kB)\n",
      "Requirement already satisfied: colorama; platform_system == \"Windows\" in c:\\users\\msi\\documents\\thesis_project\\automste_testing_deepseek_model\\word-detect-yolo.v1i.yolov11-obb\\env\\lib\\site-packages (from tqdm>=4.64.0->ultralytics) (0.4.6)\n",
      "Collecting pyparsing>=2.3.1\n",
      "  Using cached pyparsing-3.2.3-py3-none-any.whl (111 kB)\n",
      "Collecting contourpy>=1.0.1\n",
      "  Using cached contourpy-1.3.0-cp39-cp39-win_amd64.whl (211 kB)\n",
      "Collecting cycler>=0.10\n",
      "  Using cached cycler-0.12.1-py3-none-any.whl (8.3 kB)\n",
      "Collecting importlib-resources>=3.2.0; python_version < \"3.10\"\n",
      "  Using cached importlib_resources-6.5.2-py3-none-any.whl (37 kB)\n",
      "Collecting fonttools>=4.22.0\n",
      "  Using cached fonttools-4.57.0-cp39-cp39-win_amd64.whl (2.2 MB)\n",
      "Collecting kiwisolver>=1.3.1\n",
      "  Using cached kiwisolver-1.4.7-cp39-cp39-win_amd64.whl (55 kB)\n",
      "Requirement already satisfied: packaging>=20.0 in c:\\users\\msi\\documents\\thesis_project\\automste_testing_deepseek_model\\word-detect-yolo.v1i.yolov11-obb\\env\\lib\\site-packages (from matplotlib>=3.3.0->ultralytics) (25.0)\n",
      "Collecting idna<4,>=2.5\n",
      "  Using cached idna-3.10-py3-none-any.whl (70 kB)\n",
      "Collecting charset-normalizer<4,>=2\n",
      "  Using cached charset_normalizer-3.4.1-cp39-cp39-win_amd64.whl (102 kB)\n",
      "Collecting certifi>=2017.4.17\n",
      "  Using cached certifi-2025.1.31-py3-none-any.whl (166 kB)\n",
      "Collecting urllib3<3,>=1.21.1\n",
      "  Using cached urllib3-2.4.0-py3-none-any.whl (128 kB)\n",
      "Requirement already satisfied: six>=1.5 in c:\\users\\msi\\documents\\thesis_project\\automste_testing_deepseek_model\\word-detect-yolo.v1i.yolov11-obb\\env\\lib\\site-packages (from python-dateutil>=2.8.2->pandas>=1.1.4->ultralytics) (1.17.0)\n",
      "Collecting mpmath<1.4,>=1.1.0\n",
      "  Using cached mpmath-1.3.0-py3-none-any.whl (536 kB)\n",
      "Collecting MarkupSafe>=2.0\n",
      "  Using cached MarkupSafe-3.0.2-cp39-cp39-win_amd64.whl (15 kB)\n",
      "Requirement already satisfied: zipp>=3.1.0; python_version < \"3.10\" in c:\\users\\msi\\documents\\thesis_project\\automste_testing_deepseek_model\\word-detect-yolo.v1i.yolov11-obb\\env\\lib\\site-packages (from importlib-resources>=3.2.0; python_version < \"3.10\"->matplotlib>=3.3.0->ultralytics) (3.21.0)\n",
      "Installing collected packages: pytz, numpy, tzdata, pandas, py-cpuinfo, pyparsing, contourpy, cycler, importlib-resources, fonttools, kiwisolver, pillow, matplotlib, seaborn, pyyaml, opencv-python, fsspec, networkx, mpmath, sympy, MarkupSafe, jinja2, filelock, torch, scipy, tqdm, ultralytics-thop, torchvision, idna, charset-normalizer, certifi, urllib3, requests, ultralytics\n",
      "Successfully installed MarkupSafe-3.0.2 certifi-2025.1.31 charset-normalizer-3.4.1 contourpy-1.3.0 cycler-0.12.1 filelock-3.18.0 fonttools-4.57.0 fsspec-2025.3.2 idna-3.10 importlib-resources-6.5.2 jinja2-3.1.6 kiwisolver-1.4.7 matplotlib-3.9.4 mpmath-1.3.0 networkx-3.2.1 numpy-2.0.2 opencv-python-4.11.0.86 pandas-2.2.3 pillow-11.2.1 py-cpuinfo-9.0.0 pyparsing-3.2.3 pytz-2025.2 pyyaml-6.0.2 requests-2.32.3 scipy-1.13.1 seaborn-0.13.2 sympy-1.13.3 torch-2.7.0 torchvision-0.22.0 tqdm-4.67.1 tzdata-2025.2 ultralytics-8.3.116 ultralytics-thop-2.0.14 urllib3-2.4.0\n"
     ]
    },
    {
     "name": "stderr",
     "output_type": "stream",
     "text": [
      "WARNING: You are using pip version 20.2.3; however, version 25.0.1 is available.\n",
      "You should consider upgrading via the 'c:\\users\\msi\\documents\\thesis_project\\automste_testing_deepseek_model\\word-detect-yolo.v1i.yolov11-obb\\env\\scripts\\python.exe -m pip install --upgrade pip' command.\n"
     ]
    }
   ],
   "source": [
    "!pip install ultralytics"
   ]
  },
  {
   "cell_type": "code",
   "execution_count": 2,
   "id": "092efe0c",
   "metadata": {},
   "outputs": [
    {
     "name": "stdout",
     "output_type": "stream",
     "text": [
      "Ultralytics 8.3.116  Python-3.9.0 torch-2.7.0+cpu CPU (13th Gen Intel Core(TM) i7-13620H)\n",
      "Setup complete  (16 CPUs, 15.7 GB RAM, 149.2/476.0 GB disk)\n"
     ]
    }
   ],
   "source": [
    "import ultralytics\n",
    "ultralytics.checks()"
   ]
  },
  {
   "cell_type": "markdown",
   "id": "9b9c8a0c",
   "metadata": {},
   "source": [
    "1. YOLO Detection"
   ]
  },
  {
   "cell_type": "code",
   "execution_count": 4,
   "id": "fdadc5f1",
   "metadata": {},
   "outputs": [
    {
     "name": "stdout",
     "output_type": "stream",
     "text": [
      "Requirement already up-to-date: ultralytics in c:\\users\\msi\\documents\\thesis_project\\automste_testing_deepseek_model\\word-detect-yolo.v1i.yolov11-obb\\env\\lib\\site-packages (8.3.116)\n",
      "Requirement already satisfied, skipping upgrade: torch>=1.8.0 in c:\\users\\msi\\documents\\thesis_project\\automste_testing_deepseek_model\\word-detect-yolo.v1i.yolov11-obb\\env\\lib\\site-packages (from ultralytics) (2.7.0)\n",
      "Requirement already satisfied, skipping upgrade: requests>=2.23.0 in c:\\users\\msi\\documents\\thesis_project\\automste_testing_deepseek_model\\word-detect-yolo.v1i.yolov11-obb\\env\\lib\\site-packages (from ultralytics) (2.32.3)\n",
      "Requirement already satisfied, skipping upgrade: psutil in c:\\users\\msi\\documents\\thesis_project\\automste_testing_deepseek_model\\word-detect-yolo.v1i.yolov11-obb\\env\\lib\\site-packages (from ultralytics) (7.0.0)\n",
      "Requirement already satisfied, skipping upgrade: torchvision>=0.9.0 in c:\\users\\msi\\documents\\thesis_project\\automste_testing_deepseek_model\\word-detect-yolo.v1i.yolov11-obb\\env\\lib\\site-packages (from ultralytics) (0.22.0)\n",
      "Requirement already satisfied, skipping upgrade: scipy>=1.4.1 in c:\\users\\msi\\documents\\thesis_project\\automste_testing_deepseek_model\\word-detect-yolo.v1i.yolov11-obb\\env\\lib\\site-packages (from ultralytics) (1.13.1)\n",
      "Requirement already satisfied, skipping upgrade: matplotlib>=3.3.0 in c:\\users\\msi\\documents\\thesis_project\\automste_testing_deepseek_model\\word-detect-yolo.v1i.yolov11-obb\\env\\lib\\site-packages (from ultralytics) (3.9.4)\n",
      "Requirement already satisfied, skipping upgrade: py-cpuinfo in c:\\users\\msi\\documents\\thesis_project\\automste_testing_deepseek_model\\word-detect-yolo.v1i.yolov11-obb\\env\\lib\\site-packages (from ultralytics) (9.0.0)\n",
      "Requirement already satisfied, skipping upgrade: pillow>=7.1.2 in c:\\users\\msi\\documents\\thesis_project\\automste_testing_deepseek_model\\word-detect-yolo.v1i.yolov11-obb\\env\\lib\\site-packages (from ultralytics) (11.2.1)\n",
      "Requirement already satisfied, skipping upgrade: opencv-python>=4.6.0 in c:\\users\\msi\\documents\\thesis_project\\automste_testing_deepseek_model\\word-detect-yolo.v1i.yolov11-obb\\env\\lib\\site-packages (from ultralytics) (4.11.0.86)\n",
      "Requirement already satisfied, skipping upgrade: numpy<=2.1.1,>=1.23.0 in c:\\users\\msi\\documents\\thesis_project\\automste_testing_deepseek_model\\word-detect-yolo.v1i.yolov11-obb\\env\\lib\\site-packages (from ultralytics) (2.0.2)\n",
      "Requirement already satisfied, skipping upgrade: pandas>=1.1.4 in c:\\users\\msi\\documents\\thesis_project\\automste_testing_deepseek_model\\word-detect-yolo.v1i.yolov11-obb\\env\\lib\\site-packages (from ultralytics) (2.2.3)\n",
      "Requirement already satisfied, skipping upgrade: seaborn>=0.11.0 in c:\\users\\msi\\documents\\thesis_project\\automste_testing_deepseek_model\\word-detect-yolo.v1i.yolov11-obb\\env\\lib\\site-packages (from ultralytics) (0.13.2)\n",
      "Requirement already satisfied, skipping upgrade: ultralytics-thop>=2.0.0 in c:\\users\\msi\\documents\\thesis_project\\automste_testing_deepseek_model\\word-detect-yolo.v1i.yolov11-obb\\env\\lib\\site-packages (from ultralytics) (2.0.14)\n",
      "Requirement already satisfied, skipping upgrade: tqdm>=4.64.0 in c:\\users\\msi\\documents\\thesis_project\\automste_testing_deepseek_model\\word-detect-yolo.v1i.yolov11-obb\\env\\lib\\site-packages (from ultralytics) (4.67.1)\n",
      "Requirement already satisfied, skipping upgrade: pyyaml>=5.3.1 in c:\\users\\msi\\documents\\thesis_project\\automste_testing_deepseek_model\\word-detect-yolo.v1i.yolov11-obb\\env\\lib\\site-packages (from ultralytics) (6.0.2)\n",
      "Requirement already satisfied, skipping upgrade: jinja2 in c:\\users\\msi\\documents\\thesis_project\\automste_testing_deepseek_model\\word-detect-yolo.v1i.yolov11-obb\\env\\lib\\site-packages (from torch>=1.8.0->ultralytics) (3.1.6)\n",
      "Requirement already satisfied, skipping upgrade: sympy>=1.13.3 in c:\\users\\msi\\documents\\thesis_project\\automste_testing_deepseek_model\\word-detect-yolo.v1i.yolov11-obb\\env\\lib\\site-packages (from torch>=1.8.0->ultralytics) (1.13.3)\n",
      "Requirement already satisfied, skipping upgrade: typing-extensions>=4.10.0 in c:\\users\\msi\\documents\\thesis_project\\automste_testing_deepseek_model\\word-detect-yolo.v1i.yolov11-obb\\env\\lib\\site-packages (from torch>=1.8.0->ultralytics) (4.13.2)\n",
      "Requirement already satisfied, skipping upgrade: filelock in c:\\users\\msi\\documents\\thesis_project\\automste_testing_deepseek_model\\word-detect-yolo.v1i.yolov11-obb\\env\\lib\\site-packages (from torch>=1.8.0->ultralytics) (3.18.0)\n",
      "Requirement already satisfied, skipping upgrade: networkx in c:\\users\\msi\\documents\\thesis_project\\automste_testing_deepseek_model\\word-detect-yolo.v1i.yolov11-obb\\env\\lib\\site-packages (from torch>=1.8.0->ultralytics) (3.2.1)\n",
      "Requirement already satisfied, skipping upgrade: fsspec in c:\\users\\msi\\documents\\thesis_project\\automste_testing_deepseek_model\\word-detect-yolo.v1i.yolov11-obb\\env\\lib\\site-packages (from torch>=1.8.0->ultralytics) (2025.3.2)\n",
      "Requirement already satisfied, skipping upgrade: charset-normalizer<4,>=2 in c:\\users\\msi\\documents\\thesis_project\\automste_testing_deepseek_model\\word-detect-yolo.v1i.yolov11-obb\\env\\lib\\site-packages (from requests>=2.23.0->ultralytics) (3.4.1)\n",
      "Requirement already satisfied, skipping upgrade: idna<4,>=2.5 in c:\\users\\msi\\documents\\thesis_project\\automste_testing_deepseek_model\\word-detect-yolo.v1i.yolov11-obb\\env\\lib\\site-packages (from requests>=2.23.0->ultralytics) (3.10)\n",
      "Requirement already satisfied, skipping upgrade: certifi>=2017.4.17 in c:\\users\\msi\\documents\\thesis_project\\automste_testing_deepseek_model\\word-detect-yolo.v1i.yolov11-obb\\env\\lib\\site-packages (from requests>=2.23.0->ultralytics) (2025.1.31)\n",
      "Requirement already satisfied, skipping upgrade: urllib3<3,>=1.21.1 in c:\\users\\msi\\documents\\thesis_project\\automste_testing_deepseek_model\\word-detect-yolo.v1i.yolov11-obb\\env\\lib\\site-packages (from requests>=2.23.0->ultralytics) (2.4.0)\n",
      "Requirement already satisfied, skipping upgrade: kiwisolver>=1.3.1 in c:\\users\\msi\\documents\\thesis_project\\automste_testing_deepseek_model\\word-detect-yolo.v1i.yolov11-obb\\env\\lib\\site-packages (from matplotlib>=3.3.0->ultralytics) (1.4.7)\n",
      "Requirement already satisfied, skipping upgrade: pyparsing>=2.3.1 in c:\\users\\msi\\documents\\thesis_project\\automste_testing_deepseek_model\\word-detect-yolo.v1i.yolov11-obb\\env\\lib\\site-packages (from matplotlib>=3.3.0->ultralytics) (3.2.3)\n",
      "Requirement already satisfied, skipping upgrade: cycler>=0.10 in c:\\users\\msi\\documents\\thesis_project\\automste_testing_deepseek_model\\word-detect-yolo.v1i.yolov11-obb\\env\\lib\\site-packages (from matplotlib>=3.3.0->ultralytics) (0.12.1)\n",
      "Requirement already satisfied, skipping upgrade: python-dateutil>=2.7 in c:\\users\\msi\\documents\\thesis_project\\automste_testing_deepseek_model\\word-detect-yolo.v1i.yolov11-obb\\env\\lib\\site-packages (from matplotlib>=3.3.0->ultralytics) (2.9.0.post0)\n",
      "Requirement already satisfied, skipping upgrade: importlib-resources>=3.2.0; python_version < \"3.10\" in c:\\users\\msi\\documents\\thesis_project\\automste_testing_deepseek_model\\word-detect-yolo.v1i.yolov11-obb\\env\\lib\\site-packages (from matplotlib>=3.3.0->ultralytics) (6.5.2)\n",
      "Requirement already satisfied, skipping upgrade: packaging>=20.0 in c:\\users\\msi\\documents\\thesis_project\\automste_testing_deepseek_model\\word-detect-yolo.v1i.yolov11-obb\\env\\lib\\site-packages (from matplotlib>=3.3.0->ultralytics) (25.0)\n",
      "Requirement already satisfied, skipping upgrade: contourpy>=1.0.1 in c:\\users\\msi\\documents\\thesis_project\\automste_testing_deepseek_model\\word-detect-yolo.v1i.yolov11-obb\\env\\lib\\site-packages (from matplotlib>=3.3.0->ultralytics) (1.3.0)\n",
      "Requirement already satisfied, skipping upgrade: fonttools>=4.22.0 in c:\\users\\msi\\documents\\thesis_project\\automste_testing_deepseek_model\\word-detect-yolo.v1i.yolov11-obb\\env\\lib\\site-packages (from matplotlib>=3.3.0->ultralytics) (4.57.0)\n",
      "Requirement already satisfied, skipping upgrade: pytz>=2020.1 in c:\\users\\msi\\documents\\thesis_project\\automste_testing_deepseek_model\\word-detect-yolo.v1i.yolov11-obb\\env\\lib\\site-packages (from pandas>=1.1.4->ultralytics) (2025.2)\n",
      "Requirement already satisfied, skipping upgrade: tzdata>=2022.7 in c:\\users\\msi\\documents\\thesis_project\\automste_testing_deepseek_model\\word-detect-yolo.v1i.yolov11-obb\\env\\lib\\site-packages (from pandas>=1.1.4->ultralytics) (2025.2)\n",
      "Requirement already satisfied, skipping upgrade: colorama; platform_system == \"Windows\" in c:\\users\\msi\\documents\\thesis_project\\automste_testing_deepseek_model\\word-detect-yolo.v1i.yolov11-obb\\env\\lib\\site-packages (from tqdm>=4.64.0->ultralytics) (0.4.6)\n",
      "Requirement already satisfied, skipping upgrade: MarkupSafe>=2.0 in c:\\users\\msi\\documents\\thesis_project\\automste_testing_deepseek_model\\word-detect-yolo.v1i.yolov11-obb\\env\\lib\\site-packages (from jinja2->torch>=1.8.0->ultralytics) (3.0.2)\n",
      "Requirement already satisfied, skipping upgrade: mpmath<1.4,>=1.1.0 in c:\\users\\msi\\documents\\thesis_project\\automste_testing_deepseek_model\\word-detect-yolo.v1i.yolov11-obb\\env\\lib\\site-packages (from sympy>=1.13.3->torch>=1.8.0->ultralytics) (1.3.0)\n",
      "Requirement already satisfied, skipping upgrade: six>=1.5 in c:\\users\\msi\\documents\\thesis_project\\automste_testing_deepseek_model\\word-detect-yolo.v1i.yolov11-obb\\env\\lib\\site-packages (from python-dateutil>=2.7->matplotlib>=3.3.0->ultralytics) (1.17.0)\n",
      "Requirement already satisfied, skipping upgrade: zipp>=3.1.0; python_version < \"3.10\" in c:\\users\\msi\\documents\\thesis_project\\automste_testing_deepseek_model\\word-detect-yolo.v1i.yolov11-obb\\env\\lib\\site-packages (from importlib-resources>=3.2.0; python_version < \"3.10\"->matplotlib>=3.3.0->ultralytics) (3.21.0)\n"
     ]
    },
    {
     "name": "stderr",
     "output_type": "stream",
     "text": [
      "WARNING: You are using pip version 20.2.3; however, version 25.0.1 is available.\n",
      "You should consider upgrading via the 'c:\\users\\msi\\documents\\thesis_project\\automste_testing_deepseek_model\\word-detect-yolo.v1i.yolov11-obb\\env\\scripts\\python.exe -m pip install --upgrade pip' command.\n"
     ]
    }
   ],
   "source": [
    "!pip install --upgrade ultralytics"
   ]
  },
  {
   "cell_type": "code",
   "execution_count": 14,
   "id": "543a117e",
   "metadata": {},
   "outputs": [
    {
     "name": "stdout",
     "output_type": "stream",
     "text": [
      "Downloading https://github.com/ultralytics/assets/releases/download/v8.3.0/yolo11n.pt to 'yolo11n.pt'...\n"
     ]
    },
    {
     "name": "stderr",
     "output_type": "stream",
     "text": [
      "100%|██████████| 5.35M/5.35M [00:00<00:00, 7.46MB/s]\n"
     ]
    }
   ],
   "source": [
    "from ultralytics import YOLO\n",
    "\n",
    "# Load a COCO-pretrained YOLO11n model\n",
    "model = YOLO(\"yolo11n.pt\")"
   ]
  },
  {
   "cell_type": "code",
   "execution_count": 15,
   "id": "da5c7fa1",
   "metadata": {},
   "outputs": [
    {
     "name": "stdout",
     "output_type": "stream",
     "text": [
      "Ultralytics 8.3.116  Python-3.9.0 torch-2.7.0+cpu CPU (13th Gen Intel Core(TM) i7-13620H)\n",
      "\u001b[34m\u001b[1mengine\\trainer: \u001b[0mtask=detect, mode=train, model=yolo11n.pt, data=C:/Users/MSI/Documents/Thesis_Project/Automste_Testing_DeepSeek_Model/word-detect-yolo.v1i.yolov11-obb/data.yaml, epochs=30, time=None, patience=100, batch=16, imgsz=640, save=True, save_period=-1, cache=False, device=None, workers=8, project=C:/Users/MSI/Documents/Thesis_Project/Automste_Testing_DeepSeek_Model/word-detect-yolo.v1i.yolov11-obb, name=run1, exist_ok=False, pretrained=True, optimizer=auto, verbose=True, seed=0, deterministic=True, single_cls=False, rect=False, cos_lr=False, close_mosaic=10, resume=False, amp=True, fraction=1.0, profile=False, freeze=None, multi_scale=False, overlap_mask=True, mask_ratio=4, dropout=0.0, val=True, split=val, save_json=False, conf=None, iou=0.7, max_det=300, half=False, dnn=False, plots=True, source=None, vid_stride=1, stream_buffer=False, visualize=False, augment=False, agnostic_nms=False, classes=None, retina_masks=False, embed=None, show=False, save_frames=False, save_txt=False, save_conf=False, save_crop=False, show_labels=True, show_conf=True, show_boxes=True, line_width=None, format=torchscript, keras=False, optimize=False, int8=False, dynamic=False, simplify=True, opset=None, workspace=None, nms=False, lr0=0.01, lrf=0.01, momentum=0.937, weight_decay=0.0005, warmup_epochs=3.0, warmup_momentum=0.8, warmup_bias_lr=0.1, box=7.5, cls=0.5, dfl=1.5, pose=12.0, kobj=1.0, nbs=64, hsv_h=0.015, hsv_s=0.7, hsv_v=0.4, degrees=0.0, translate=0.1, scale=0.5, shear=0.0, perspective=0.0, flipud=0.0, fliplr=0.5, bgr=0.0, mosaic=1.0, mixup=0.0, copy_paste=0.0, copy_paste_mode=flip, auto_augment=randaugment, erasing=0.4, cfg=None, tracker=botsort.yaml, save_dir=C:\\Users\\MSI\\Documents\\Thesis_Project\\Automste_Testing_DeepSeek_Model\\word-detect-yolo.v1i.yolov11-obb\\run1\n",
      "Overriding model.yaml nc=80 with nc=1\n",
      "\n",
      "                   from  n    params  module                                       arguments                     \n",
      "  0                  -1  1       464  ultralytics.nn.modules.conv.Conv             [3, 16, 3, 2]                 \n",
      "  1                  -1  1      4672  ultralytics.nn.modules.conv.Conv             [16, 32, 3, 2]                \n",
      "  2                  -1  1      6640  ultralytics.nn.modules.block.C3k2            [32, 64, 1, False, 0.25]      \n",
      "  3                  -1  1     36992  ultralytics.nn.modules.conv.Conv             [64, 64, 3, 2]                \n",
      "  4                  -1  1     26080  ultralytics.nn.modules.block.C3k2            [64, 128, 1, False, 0.25]     \n",
      "  5                  -1  1    147712  ultralytics.nn.modules.conv.Conv             [128, 128, 3, 2]              \n",
      "  6                  -1  1     87040  ultralytics.nn.modules.block.C3k2            [128, 128, 1, True]           \n",
      "  7                  -1  1    295424  ultralytics.nn.modules.conv.Conv             [128, 256, 3, 2]              \n",
      "  8                  -1  1    346112  ultralytics.nn.modules.block.C3k2            [256, 256, 1, True]           \n",
      "  9                  -1  1    164608  ultralytics.nn.modules.block.SPPF            [256, 256, 5]                 \n",
      " 10                  -1  1    249728  ultralytics.nn.modules.block.C2PSA           [256, 256, 1]                 \n",
      " 11                  -1  1         0  torch.nn.modules.upsampling.Upsample         [None, 2, 'nearest']          \n",
      " 12             [-1, 6]  1         0  ultralytics.nn.modules.conv.Concat           [1]                           \n",
      " 13                  -1  1    111296  ultralytics.nn.modules.block.C3k2            [384, 128, 1, False]          \n",
      " 14                  -1  1         0  torch.nn.modules.upsampling.Upsample         [None, 2, 'nearest']          \n",
      " 15             [-1, 4]  1         0  ultralytics.nn.modules.conv.Concat           [1]                           \n",
      " 16                  -1  1     32096  ultralytics.nn.modules.block.C3k2            [256, 64, 1, False]           \n",
      " 17                  -1  1     36992  ultralytics.nn.modules.conv.Conv             [64, 64, 3, 2]                \n",
      " 18            [-1, 13]  1         0  ultralytics.nn.modules.conv.Concat           [1]                           \n",
      " 19                  -1  1     86720  ultralytics.nn.modules.block.C3k2            [192, 128, 1, False]          \n",
      " 20                  -1  1    147712  ultralytics.nn.modules.conv.Conv             [128, 128, 3, 2]              \n",
      " 21            [-1, 10]  1         0  ultralytics.nn.modules.conv.Concat           [1]                           \n",
      " 22                  -1  1    378880  ultralytics.nn.modules.block.C3k2            [384, 256, 1, True]           \n",
      " 23        [16, 19, 22]  1    430867  ultralytics.nn.modules.head.Detect           [1, [64, 128, 256]]           \n",
      "YOLO11n summary: 181 layers, 2,590,035 parameters, 2,590,019 gradients, 6.4 GFLOPs\n",
      "\n",
      "Transferred 448/499 items from pretrained weights\n",
      "Freezing layer 'model.23.dfl.conv.weight'\n",
      "\u001b[34m\u001b[1mtrain: \u001b[0mFast image access  (ping: 0.30.2 ms, read: 7.70.9 MB/s, size: 40.8 KB)\n"
     ]
    },
    {
     "name": "stderr",
     "output_type": "stream",
     "text": [
      "\u001b[34m\u001b[1mtrain: \u001b[0mScanning C:\\Users\\MSI\\Documents\\Thesis_Project\\Automste_Testing_DeepSeek_Model\\word-detect-yolo.v1i.yolov11-obb\\train\\labels... 1224 images, 0 backgrounds, 0 corrupt: 100%|██████████| 1224/1224 [00:03<00:00, 342.33it/s]"
     ]
    },
    {
     "name": "stdout",
     "output_type": "stream",
     "text": [
      "\u001b[34m\u001b[1mtrain: \u001b[0mC:\\Users\\MSI\\Documents\\Thesis_Project\\Automste_Testing_DeepSeek_Model\\word-detect-yolo.v1i.yolov11-obb\\train\\images\\a01-063u_png.rf.4ac3f46b58c98d73e9d44d3e8b7a1d40.jpg: 77 duplicate labels removed\n",
      "\u001b[34m\u001b[1mtrain: \u001b[0mC:\\Users\\MSI\\Documents\\Thesis_Project\\Automste_Testing_DeepSeek_Model\\word-detect-yolo.v1i.yolov11-obb\\train\\images\\a03-059_png.rf.3875e3799430b6e7fe6fc35b385e72c8.jpg: 3 duplicate labels removed\n",
      "\u001b[34m\u001b[1mtrain: \u001b[0mC:\\Users\\MSI\\Documents\\Thesis_Project\\Automste_Testing_DeepSeek_Model\\word-detect-yolo.v1i.yolov11-obb\\train\\images\\a03-066_png.rf.ba560036c9f34f0453473b0d72846754.jpg: 58 duplicate labels removed\n",
      "\u001b[34m\u001b[1mtrain: \u001b[0mC:\\Users\\MSI\\Documents\\Thesis_Project\\Automste_Testing_DeepSeek_Model\\word-detect-yolo.v1i.yolov11-obb\\train\\images\\a06-004_png.rf.ea7523286f0dc58f91bd393ab304dc98.jpg: 73 duplicate labels removed\n",
      "\u001b[34m\u001b[1mtrain: \u001b[0mC:\\Users\\MSI\\Documents\\Thesis_Project\\Automste_Testing_DeepSeek_Model\\word-detect-yolo.v1i.yolov11-obb\\train\\images\\b01-118_png.rf.f162be0e07d981f67ba9463d8284a33c.jpg: 79 duplicate labels removed\n",
      "\u001b[34m\u001b[1mtrain: \u001b[0mC:\\Users\\MSI\\Documents\\Thesis_Project\\Automste_Testing_DeepSeek_Model\\word-detect-yolo.v1i.yolov11-obb\\train\\images\\b03-104_png.rf.36374a63c65626e9983709e384c732e4.jpg: 78 duplicate labels removed\n",
      "\u001b[34m\u001b[1mtrain: \u001b[0mC:\\Users\\MSI\\Documents\\Thesis_Project\\Automste_Testing_DeepSeek_Model\\word-detect-yolo.v1i.yolov11-obb\\train\\images\\b05-042_png.rf.abfcabb26692e3952c9cba8f484bd094.jpg: 3 duplicate labels removed\n",
      "\u001b[34m\u001b[1mtrain: \u001b[0mC:\\Users\\MSI\\Documents\\Thesis_Project\\Automste_Testing_DeepSeek_Model\\word-detect-yolo.v1i.yolov11-obb\\train\\images\\c01-009_png.rf.49c92acc2750e269d0c95e7a8e37e995.jpg: 5 duplicate labels removed\n",
      "\u001b[34m\u001b[1mtrain: \u001b[0mC:\\Users\\MSI\\Documents\\Thesis_Project\\Automste_Testing_DeepSeek_Model\\word-detect-yolo.v1i.yolov11-obb\\train\\images\\c01-014_png.rf.b004e47cb28d60a58bc2300d51fccc83.jpg: 5 duplicate labels removed\n",
      "\u001b[34m\u001b[1mtrain: \u001b[0mC:\\Users\\MSI\\Documents\\Thesis_Project\\Automste_Testing_DeepSeek_Model\\word-detect-yolo.v1i.yolov11-obb\\train\\images\\c03-003c_png.rf.d21b7ab5659a6fd4c7ee22356b7a789a.jpg: 80 duplicate labels removed\n",
      "\u001b[34m\u001b[1mtrain: \u001b[0mC:\\Users\\MSI\\Documents\\Thesis_Project\\Automste_Testing_DeepSeek_Model\\word-detect-yolo.v1i.yolov11-obb\\train\\images\\d04-117_png.rf.de06df779ecd9af2540f0c8b89471dea.jpg: 80 duplicate labels removed\n",
      "\u001b[34m\u001b[1mtrain: \u001b[0mC:\\Users\\MSI\\Documents\\Thesis_Project\\Automste_Testing_DeepSeek_Model\\word-detect-yolo.v1i.yolov11-obb\\train\\images\\d06-063_png.rf.ffb268b717c4055cddd0d6023936758e.jpg: 4 duplicate labels removed\n",
      "\u001b[34m\u001b[1mtrain: \u001b[0mC:\\Users\\MSI\\Documents\\Thesis_Project\\Automste_Testing_DeepSeek_Model\\word-detect-yolo.v1i.yolov11-obb\\train\\images\\d07-096_png.rf.3a00dd1e74935c3b9cb28b50acd526f6.jpg: 89 duplicate labels removed\n",
      "\u001b[34m\u001b[1mtrain: \u001b[0mC:\\Users\\MSI\\Documents\\Thesis_Project\\Automste_Testing_DeepSeek_Model\\word-detect-yolo.v1i.yolov11-obb\\train\\images\\g06-031e_png.rf.292db87a43967a195d41d3b7e562c215.jpg: 85 duplicate labels removed\n",
      "\u001b[34m\u001b[1mtrain: \u001b[0mC:\\Users\\MSI\\Documents\\Thesis_Project\\Automste_Testing_DeepSeek_Model\\word-detect-yolo.v1i.yolov11-obb\\train\\images\\g06-037m_png.rf.560819b0cc0690d28c5b6e6353d76336.jpg: 93 duplicate labels removed\n",
      "\u001b[34m\u001b[1mtrain: \u001b[0mC:\\Users\\MSI\\Documents\\Thesis_Project\\Automste_Testing_DeepSeek_Model\\word-detect-yolo.v1i.yolov11-obb\\train\\images\\h04-055_png.rf.bf2cf2d24262b819efa33039c2205b1f.jpg: 69 duplicate labels removed\n",
      "\u001b[34m\u001b[1mtrain: \u001b[0mC:\\Users\\MSI\\Documents\\Thesis_Project\\Automste_Testing_DeepSeek_Model\\word-detect-yolo.v1i.yolov11-obb\\train\\images\\j04-024_png.rf.aba583ec794e5c45010db6e87c396242.jpg: 76 duplicate labels removed\n",
      "\u001b[34m\u001b[1mtrain: \u001b[0mC:\\Users\\MSI\\Documents\\Thesis_Project\\Automste_Testing_DeepSeek_Model\\word-detect-yolo.v1i.yolov11-obb\\train\\images\\m01-049_png.rf.ba76342546c6f0b6ba3805964bd4b5bd.jpg: 1 duplicate labels removed\n",
      "\u001b[34m\u001b[1mtrain: \u001b[0mC:\\Users\\MSI\\Documents\\Thesis_Project\\Automste_Testing_DeepSeek_Model\\word-detect-yolo.v1i.yolov11-obb\\train\\images\\m01-110_png.rf.f3abbb986cf8e0460771dd3ad342bc96.jpg: 1 duplicate labels removed\n",
      "\u001b[34m\u001b[1mtrain: \u001b[0mC:\\Users\\MSI\\Documents\\Thesis_Project\\Automste_Testing_DeepSeek_Model\\word-detect-yolo.v1i.yolov11-obb\\train\\images\\m01-136_png.rf.0932c68de2523ef5c412c5f938913df0.jpg: 2 duplicate labels removed\n",
      "\u001b[34m\u001b[1mtrain: \u001b[0mC:\\Users\\MSI\\Documents\\Thesis_Project\\Automste_Testing_DeepSeek_Model\\word-detect-yolo.v1i.yolov11-obb\\train\\images\\m03-013_png.rf.509fb0e06175b40db21acfeb3708bd04.jpg: 67 duplicate labels removed\n",
      "\u001b[34m\u001b[1mtrain: \u001b[0mC:\\Users\\MSI\\Documents\\Thesis_Project\\Automste_Testing_DeepSeek_Model\\word-detect-yolo.v1i.yolov11-obb\\train\\images\\m03-095_png.rf.6cd2b399c3592449fe12958e73f8674e.jpg: 59 duplicate labels removed\n",
      "\u001b[34m\u001b[1mtrain: \u001b[0mC:\\Users\\MSI\\Documents\\Thesis_Project\\Automste_Testing_DeepSeek_Model\\word-detect-yolo.v1i.yolov11-obb\\train\\images\\n03-106_png.rf.02a82d5d2632e18a09dce505d49f007b.jpg: 2 duplicate labels removed\n",
      "\u001b[34m\u001b[1mtrain: \u001b[0mC:\\Users\\MSI\\Documents\\Thesis_Project\\Automste_Testing_DeepSeek_Model\\word-detect-yolo.v1i.yolov11-obb\\train\\images\\n04-000_png.rf.233e559bd80846d780e09a16047f6481.jpg: 78 duplicate labels removed\n",
      "\u001b[34m\u001b[1mtrain: \u001b[0mC:\\Users\\MSI\\Documents\\Thesis_Project\\Automste_Testing_DeepSeek_Model\\word-detect-yolo.v1i.yolov11-obb\\train\\images\\p03-181_png.rf.03005cf2200ad7cb8f3794931d7a167e.jpg: 89 duplicate labels removed\n"
     ]
    },
    {
     "name": "stderr",
     "output_type": "stream",
     "text": [
      "\n"
     ]
    },
    {
     "name": "stdout",
     "output_type": "stream",
     "text": [
      "\u001b[34m\u001b[1mtrain: \u001b[0mNew cache created: C:\\Users\\MSI\\Documents\\Thesis_Project\\Automste_Testing_DeepSeek_Model\\word-detect-yolo.v1i.yolov11-obb\\train\\labels.cache\n",
      "\u001b[34m\u001b[1mval: \u001b[0mFast image access  (ping: 0.20.0 ms, read: 8.02.0 MB/s, size: 42.4 KB)\n"
     ]
    },
    {
     "name": "stderr",
     "output_type": "stream",
     "text": [
      "c:\\Users\\MSI\\Documents\\Thesis_Project\\Automste_Testing_DeepSeek_Model\\word-detect-yolo.v1i.yolov11-obb\\env\\lib\\site-packages\\torch\\utils\\data\\dataloader.py:665: UserWarning: 'pin_memory' argument is set as true but no accelerator is found, then device pinned memory won't be used.\n",
      "  warnings.warn(warn_msg)\n",
      "\u001b[34m\u001b[1mval: \u001b[0mScanning C:\\Users\\MSI\\Documents\\Thesis_Project\\Automste_Testing_DeepSeek_Model\\word-detect-yolo.v1i.yolov11-obb\\valid\\labels... 154 images, 0 backgrounds, 0 corrupt: 100%|██████████| 154/154 [00:00<00:00, 478.79it/s]"
     ]
    },
    {
     "name": "stdout",
     "output_type": "stream",
     "text": [
      "\u001b[34m\u001b[1mval: \u001b[0mC:\\Users\\MSI\\Documents\\Thesis_Project\\Automste_Testing_DeepSeek_Model\\word-detect-yolo.v1i.yolov11-obb\\valid\\images\\b05-088_png.rf.e8196fb78748c7a7883bfa1c8d6c344b.jpg: 77 duplicate labels removed\n",
      "\u001b[34m\u001b[1mval: \u001b[0mC:\\Users\\MSI\\Documents\\Thesis_Project\\Automste_Testing_DeepSeek_Model\\word-detect-yolo.v1i.yolov11-obb\\valid\\images\\d06-072_png.rf.c2d7888c349dc0bfd50adf8028de9366.jpg: 2 duplicate labels removed\n",
      "\u001b[34m\u001b[1mval: \u001b[0mC:\\Users\\MSI\\Documents\\Thesis_Project\\Automste_Testing_DeepSeek_Model\\word-detect-yolo.v1i.yolov11-obb\\valid\\images\\g06-011f_png.rf.6f1057d63ff1b76b194a7b93bff5add0.jpg: 109 duplicate labels removed\n",
      "\u001b[34m\u001b[1mval: \u001b[0mC:\\Users\\MSI\\Documents\\Thesis_Project\\Automste_Testing_DeepSeek_Model\\word-detect-yolo.v1i.yolov11-obb\\valid\\images\\m01-149_png.rf.6b51a1de657c9e6e625c2ba58df3b8d5.jpg: 91 duplicate labels removed\n",
      "\u001b[34m\u001b[1mval: \u001b[0mNew cache created: C:\\Users\\MSI\\Documents\\Thesis_Project\\Automste_Testing_DeepSeek_Model\\word-detect-yolo.v1i.yolov11-obb\\valid\\labels.cache\n"
     ]
    },
    {
     "name": "stderr",
     "output_type": "stream",
     "text": [
      "\n",
      "c:\\Users\\MSI\\Documents\\Thesis_Project\\Automste_Testing_DeepSeek_Model\\word-detect-yolo.v1i.yolov11-obb\\env\\lib\\site-packages\\torch\\utils\\data\\dataloader.py:665: UserWarning: 'pin_memory' argument is set as true but no accelerator is found, then device pinned memory won't be used.\n",
      "  warnings.warn(warn_msg)\n"
     ]
    },
    {
     "name": "stdout",
     "output_type": "stream",
     "text": [
      "Plotting labels to C:\\Users\\MSI\\Documents\\Thesis_Project\\Automste_Testing_DeepSeek_Model\\word-detect-yolo.v1i.yolov11-obb\\run1\\labels.jpg... \n",
      "\u001b[34m\u001b[1moptimizer:\u001b[0m 'optimizer=auto' found, ignoring 'lr0=0.01' and 'momentum=0.937' and determining best 'optimizer', 'lr0' and 'momentum' automatically... \n",
      "\u001b[34m\u001b[1moptimizer:\u001b[0m AdamW(lr=0.002, momentum=0.9) with parameter groups 81 weight(decay=0.0), 88 weight(decay=0.0005), 87 bias(decay=0.0)\n",
      "Image sizes 640 train, 640 val\n",
      "Using 0 dataloader workers\n",
      "Logging results to \u001b[1mC:\\Users\\MSI\\Documents\\Thesis_Project\\Automste_Testing_DeepSeek_Model\\word-detect-yolo.v1i.yolov11-obb\\run1\u001b[0m\n",
      "Starting training for 30 epochs...\n",
      "\n",
      "      Epoch    GPU_mem   box_loss   cls_loss   dfl_loss  Instances       Size\n"
     ]
    },
    {
     "name": "stderr",
     "output_type": "stream",
     "text": [
      "       1/30         0G      1.504      1.866       1.01        639        640: 100%|██████████| 77/77 [08:18<00:00,  6.47s/it]\n",
      "                 Class     Images  Instances      Box(P          R      mAP50  mAP50-95): 100%|██████████| 5/5 [00:28<00:00,  5.68s/it]"
     ]
    },
    {
     "name": "stdout",
     "output_type": "stream",
     "text": [
      "                   all        154      11423      0.903      0.716      0.812      0.546\n"
     ]
    },
    {
     "name": "stderr",
     "output_type": "stream",
     "text": [
      "\n"
     ]
    },
    {
     "name": "stdout",
     "output_type": "stream",
     "text": [
      "\n",
      "      Epoch    GPU_mem   box_loss   cls_loss   dfl_loss  Instances       Size\n"
     ]
    },
    {
     "name": "stderr",
     "output_type": "stream",
     "text": [
      "       2/30         0G      1.133     0.7755      0.913        765        640: 100%|██████████| 77/77 [08:40<00:00,  6.77s/it]\n",
      "                 Class     Images  Instances      Box(P          R      mAP50  mAP50-95): 100%|██████████| 5/5 [00:28<00:00,  5.80s/it]"
     ]
    },
    {
     "name": "stdout",
     "output_type": "stream",
     "text": [
      "                   all        154      11423      0.921      0.806      0.843      0.582\n"
     ]
    },
    {
     "name": "stderr",
     "output_type": "stream",
     "text": [
      "\n"
     ]
    },
    {
     "name": "stdout",
     "output_type": "stream",
     "text": [
      "\n",
      "      Epoch    GPU_mem   box_loss   cls_loss   dfl_loss  Instances       Size\n"
     ]
    },
    {
     "name": "stderr",
     "output_type": "stream",
     "text": [
      "       3/30         0G      1.077     0.7155     0.9063        811        640: 100%|██████████| 77/77 [09:35<00:00,  7.48s/it]\n",
      "                 Class     Images  Instances      Box(P          R      mAP50  mAP50-95): 100%|██████████| 5/5 [00:28<00:00,  5.77s/it]"
     ]
    },
    {
     "name": "stdout",
     "output_type": "stream",
     "text": [
      "                   all        154      11423      0.935      0.824      0.857      0.594\n"
     ]
    },
    {
     "name": "stderr",
     "output_type": "stream",
     "text": [
      "\n"
     ]
    },
    {
     "name": "stdout",
     "output_type": "stream",
     "text": [
      "\n",
      "      Epoch    GPU_mem   box_loss   cls_loss   dfl_loss  Instances       Size\n"
     ]
    },
    {
     "name": "stderr",
     "output_type": "stream",
     "text": [
      "       4/30         0G      1.061     0.6882     0.8965        666        640: 100%|██████████| 77/77 [09:36<00:00,  7.49s/it]\n",
      "                 Class     Images  Instances      Box(P          R      mAP50  mAP50-95): 100%|██████████| 5/5 [00:28<00:00,  5.77s/it]"
     ]
    },
    {
     "name": "stdout",
     "output_type": "stream",
     "text": [
      "                   all        154      11423      0.936      0.824      0.866      0.651\n"
     ]
    },
    {
     "name": "stderr",
     "output_type": "stream",
     "text": [
      "\n"
     ]
    },
    {
     "name": "stdout",
     "output_type": "stream",
     "text": [
      "\n",
      "      Epoch    GPU_mem   box_loss   cls_loss   dfl_loss  Instances       Size\n"
     ]
    },
    {
     "name": "stderr",
     "output_type": "stream",
     "text": [
      "       5/30         0G     0.9935     0.6389      0.884        824        640: 100%|██████████| 77/77 [09:39<00:00,  7.53s/it]\n",
      "                 Class     Images  Instances      Box(P          R      mAP50  mAP50-95): 100%|██████████| 5/5 [00:28<00:00,  5.61s/it]"
     ]
    },
    {
     "name": "stdout",
     "output_type": "stream",
     "text": [
      "                   all        154      11423      0.933      0.818      0.854      0.596\n"
     ]
    },
    {
     "name": "stderr",
     "output_type": "stream",
     "text": [
      "\n"
     ]
    },
    {
     "name": "stdout",
     "output_type": "stream",
     "text": [
      "\n",
      "      Epoch    GPU_mem   box_loss   cls_loss   dfl_loss  Instances       Size\n"
     ]
    },
    {
     "name": "stderr",
     "output_type": "stream",
     "text": [
      "       6/30         0G      1.034     0.6454     0.8927        812        640: 100%|██████████| 77/77 [09:33<00:00,  7.44s/it]\n",
      "                 Class     Images  Instances      Box(P          R      mAP50  mAP50-95): 100%|██████████| 5/5 [00:28<00:00,  5.69s/it]"
     ]
    },
    {
     "name": "stdout",
     "output_type": "stream",
     "text": [
      "                   all        154      11423        0.8      0.495      0.643      0.399\n"
     ]
    },
    {
     "name": "stderr",
     "output_type": "stream",
     "text": [
      "\n"
     ]
    },
    {
     "name": "stdout",
     "output_type": "stream",
     "text": [
      "\n",
      "      Epoch    GPU_mem   box_loss   cls_loss   dfl_loss  Instances       Size\n"
     ]
    },
    {
     "name": "stderr",
     "output_type": "stream",
     "text": [
      "       7/30         0G      1.017     0.6382     0.8858        784        640: 100%|██████████| 77/77 [07:06<00:00,  5.54s/it]\n",
      "                 Class     Images  Instances      Box(P          R      mAP50  mAP50-95): 100%|██████████| 5/5 [00:14<00:00,  2.86s/it]"
     ]
    },
    {
     "name": "stdout",
     "output_type": "stream",
     "text": [
      "                   all        154      11423      0.939      0.828      0.868      0.655\n",
      "\n",
      "      Epoch    GPU_mem   box_loss   cls_loss   dfl_loss  Instances       Size\n"
     ]
    },
    {
     "name": "stderr",
     "output_type": "stream",
     "text": [
      "\n",
      "       8/30         0G     0.9451     0.5964     0.8781       1061        640: 100%|██████████| 77/77 [04:54<00:00,  3.82s/it]\n",
      "                 Class     Images  Instances      Box(P          R      mAP50  mAP50-95): 100%|██████████| 5/5 [00:12<00:00,  2.48s/it]"
     ]
    },
    {
     "name": "stdout",
     "output_type": "stream",
     "text": [
      "                   all        154      11423      0.942      0.826      0.869      0.687\n",
      "\n",
      "      Epoch    GPU_mem   box_loss   cls_loss   dfl_loss  Instances       Size\n"
     ]
    },
    {
     "name": "stderr",
     "output_type": "stream",
     "text": [
      "\n",
      "       9/30         0G     0.9137     0.5761     0.8795        591        640: 100%|██████████| 77/77 [04:52<00:00,  3.80s/it]\n",
      "                 Class     Images  Instances      Box(P          R      mAP50  mAP50-95): 100%|██████████| 5/5 [00:12<00:00,  2.60s/it]"
     ]
    },
    {
     "name": "stdout",
     "output_type": "stream",
     "text": [
      "                   all        154      11423      0.921      0.826      0.867      0.664\n",
      "\n",
      "      Epoch    GPU_mem   box_loss   cls_loss   dfl_loss  Instances       Size\n"
     ]
    },
    {
     "name": "stderr",
     "output_type": "stream",
     "text": [
      "\n",
      "      10/30         0G     0.8957     0.5648     0.8733        809        640: 100%|██████████| 77/77 [04:59<00:00,  3.89s/it]\n",
      "                 Class     Images  Instances      Box(P          R      mAP50  mAP50-95): 100%|██████████| 5/5 [00:12<00:00,  2.54s/it]"
     ]
    },
    {
     "name": "stdout",
     "output_type": "stream",
     "text": [
      "                   all        154      11423      0.943      0.837      0.876      0.683\n"
     ]
    },
    {
     "name": "stderr",
     "output_type": "stream",
     "text": [
      "\n"
     ]
    },
    {
     "name": "stdout",
     "output_type": "stream",
     "text": [
      "\n",
      "      Epoch    GPU_mem   box_loss   cls_loss   dfl_loss  Instances       Size\n"
     ]
    },
    {
     "name": "stderr",
     "output_type": "stream",
     "text": [
      "      11/30         0G     0.9084     0.5602     0.8758        501        640: 100%|██████████| 77/77 [04:51<00:00,  3.79s/it]\n",
      "                 Class     Images  Instances      Box(P          R      mAP50  mAP50-95): 100%|██████████| 5/5 [00:12<00:00,  2.60s/it]"
     ]
    },
    {
     "name": "stdout",
     "output_type": "stream",
     "text": [
      "                   all        154      11423      0.949      0.829      0.876       0.69\n",
      "\n",
      "      Epoch    GPU_mem   box_loss   cls_loss   dfl_loss  Instances       Size\n"
     ]
    },
    {
     "name": "stderr",
     "output_type": "stream",
     "text": [
      "\n",
      "      12/30         0G     0.9332     0.5693     0.8768        565        640: 100%|██████████| 77/77 [04:50<00:00,  3.77s/it]\n",
      "                 Class     Images  Instances      Box(P          R      mAP50  mAP50-95): 100%|██████████| 5/5 [00:12<00:00,  2.55s/it]"
     ]
    },
    {
     "name": "stdout",
     "output_type": "stream",
     "text": [
      "                   all        154      11423      0.883      0.751      0.819      0.606\n",
      "\n",
      "      Epoch    GPU_mem   box_loss   cls_loss   dfl_loss  Instances       Size\n"
     ]
    },
    {
     "name": "stderr",
     "output_type": "stream",
     "text": [
      "\n",
      "      13/30         0G     0.9194     0.5613     0.8762        760        640: 100%|██████████| 77/77 [04:55<00:00,  3.84s/it]\n",
      "                 Class     Images  Instances      Box(P          R      mAP50  mAP50-95): 100%|██████████| 5/5 [00:13<00:00,  2.76s/it]"
     ]
    },
    {
     "name": "stdout",
     "output_type": "stream",
     "text": [
      "                   all        154      11423      0.943      0.824      0.867      0.649\n",
      "\n",
      "      Epoch    GPU_mem   box_loss   cls_loss   dfl_loss  Instances       Size\n"
     ]
    },
    {
     "name": "stderr",
     "output_type": "stream",
     "text": [
      "\n",
      "      14/30         0G     0.8695     0.5373     0.8705       1047        640: 100%|██████████| 77/77 [04:44<00:00,  3.70s/it]\n",
      "                 Class     Images  Instances      Box(P          R      mAP50  mAP50-95): 100%|██████████| 5/5 [00:11<00:00,  2.39s/it]"
     ]
    },
    {
     "name": "stdout",
     "output_type": "stream",
     "text": [
      "                   all        154      11423      0.944      0.841      0.883      0.704\n",
      "\n",
      "      Epoch    GPU_mem   box_loss   cls_loss   dfl_loss  Instances       Size\n"
     ]
    },
    {
     "name": "stderr",
     "output_type": "stream",
     "text": [
      "\n",
      "      15/30         0G     0.8417     0.5212     0.8661        514        640: 100%|██████████| 77/77 [04:44<00:00,  3.70s/it]\n",
      "                 Class     Images  Instances      Box(P          R      mAP50  mAP50-95): 100%|██████████| 5/5 [00:12<00:00,  2.49s/it]"
     ]
    },
    {
     "name": "stdout",
     "output_type": "stream",
     "text": [
      "                   all        154      11423       0.94      0.824      0.868      0.666\n",
      "\n",
      "      Epoch    GPU_mem   box_loss   cls_loss   dfl_loss  Instances       Size\n"
     ]
    },
    {
     "name": "stderr",
     "output_type": "stream",
     "text": [
      "\n",
      "      16/30         0G     0.8402     0.5189      0.865        620        640: 100%|██████████| 77/77 [04:54<00:00,  3.82s/it]\n",
      "                 Class     Images  Instances      Box(P          R      mAP50  mAP50-95): 100%|██████████| 5/5 [00:12<00:00,  2.57s/it]"
     ]
    },
    {
     "name": "stdout",
     "output_type": "stream",
     "text": [
      "                   all        154      11423      0.947      0.845      0.881      0.704\n",
      "\n",
      "      Epoch    GPU_mem   box_loss   cls_loss   dfl_loss  Instances       Size\n"
     ]
    },
    {
     "name": "stderr",
     "output_type": "stream",
     "text": [
      "\n",
      "      17/30         0G     0.8467     0.5132     0.8658        488        640: 100%|██████████| 77/77 [04:51<00:00,  3.79s/it]\n",
      "                 Class     Images  Instances      Box(P          R      mAP50  mAP50-95): 100%|██████████| 5/5 [00:12<00:00,  2.51s/it]"
     ]
    },
    {
     "name": "stdout",
     "output_type": "stream",
     "text": [
      "                   all        154      11423      0.947       0.84      0.881      0.706\n",
      "\n",
      "      Epoch    GPU_mem   box_loss   cls_loss   dfl_loss  Instances       Size\n"
     ]
    },
    {
     "name": "stderr",
     "output_type": "stream",
     "text": [
      "\n",
      "      18/30         0G     0.8151     0.4953     0.8619        737        640: 100%|██████████| 77/77 [04:57<00:00,  3.86s/it]\n",
      "                 Class     Images  Instances      Box(P          R      mAP50  mAP50-95): 100%|██████████| 5/5 [00:12<00:00,  2.53s/it]"
     ]
    },
    {
     "name": "stdout",
     "output_type": "stream",
     "text": [
      "                   all        154      11423      0.947      0.842      0.885      0.713\n"
     ]
    },
    {
     "name": "stderr",
     "output_type": "stream",
     "text": [
      "\n"
     ]
    },
    {
     "name": "stdout",
     "output_type": "stream",
     "text": [
      "\n",
      "      Epoch    GPU_mem   box_loss   cls_loss   dfl_loss  Instances       Size\n"
     ]
    },
    {
     "name": "stderr",
     "output_type": "stream",
     "text": [
      "      19/30         0G     0.8247     0.4939     0.8584        797        640: 100%|██████████| 77/77 [04:51<00:00,  3.79s/it]\n",
      "                 Class     Images  Instances      Box(P          R      mAP50  mAP50-95): 100%|██████████| 5/5 [00:12<00:00,  2.48s/it]"
     ]
    },
    {
     "name": "stdout",
     "output_type": "stream",
     "text": [
      "                   all        154      11423      0.952      0.842      0.885      0.711\n",
      "\n",
      "      Epoch    GPU_mem   box_loss   cls_loss   dfl_loss  Instances       Size\n"
     ]
    },
    {
     "name": "stderr",
     "output_type": "stream",
     "text": [
      "\n",
      "      20/30         0G      0.805     0.4876     0.8617        988        640: 100%|██████████| 77/77 [04:49<00:00,  3.75s/it]\n",
      "                 Class     Images  Instances      Box(P          R      mAP50  mAP50-95): 100%|██████████| 5/5 [00:13<00:00,  2.61s/it]"
     ]
    },
    {
     "name": "stdout",
     "output_type": "stream",
     "text": [
      "                   all        154      11423      0.954      0.839      0.884      0.702\n",
      "Closing dataloader mosaic\n",
      "\n",
      "      Epoch    GPU_mem   box_loss   cls_loss   dfl_loss  Instances       Size\n"
     ]
    },
    {
     "name": "stderr",
     "output_type": "stream",
     "text": [
      "\n",
      "c:\\Users\\MSI\\Documents\\Thesis_Project\\Automste_Testing_DeepSeek_Model\\word-detect-yolo.v1i.yolov11-obb\\env\\lib\\site-packages\\torch\\utils\\data\\dataloader.py:665: UserWarning: 'pin_memory' argument is set as true but no accelerator is found, then device pinned memory won't be used.\n",
      "  warnings.warn(warn_msg)\n",
      "      21/30         0G     0.7434     0.4693     0.8549        568        640: 100%|██████████| 77/77 [03:31<00:00,  2.75s/it]\n",
      "                 Class     Images  Instances      Box(P          R      mAP50  mAP50-95): 100%|██████████| 5/5 [00:12<00:00,  2.58s/it]"
     ]
    },
    {
     "name": "stdout",
     "output_type": "stream",
     "text": [
      "                   all        154      11423      0.949       0.84      0.886      0.715\n",
      "\n",
      "      Epoch    GPU_mem   box_loss   cls_loss   dfl_loss  Instances       Size\n"
     ]
    },
    {
     "name": "stderr",
     "output_type": "stream",
     "text": [
      "\n",
      "      22/30         0G     0.7166     0.4503       0.85        516        640: 100%|██████████| 77/77 [03:30<00:00,  2.73s/it]\n",
      "                 Class     Images  Instances      Box(P          R      mAP50  mAP50-95): 100%|██████████| 5/5 [00:12<00:00,  2.58s/it]"
     ]
    },
    {
     "name": "stdout",
     "output_type": "stream",
     "text": [
      "                   all        154      11423      0.957      0.834      0.883      0.716\n",
      "\n",
      "      Epoch    GPU_mem   box_loss   cls_loss   dfl_loss  Instances       Size\n"
     ]
    },
    {
     "name": "stderr",
     "output_type": "stream",
     "text": [
      "\n",
      "      23/30         0G     0.7182     0.4467      0.851        564        640: 100%|██████████| 77/77 [03:28<00:00,  2.71s/it]\n",
      "                 Class     Images  Instances      Box(P          R      mAP50  mAP50-95): 100%|██████████| 5/5 [00:12<00:00,  2.52s/it]"
     ]
    },
    {
     "name": "stdout",
     "output_type": "stream",
     "text": [
      "                   all        154      11423      0.944      0.842      0.886      0.711\n",
      "\n",
      "      Epoch    GPU_mem   box_loss   cls_loss   dfl_loss  Instances       Size\n"
     ]
    },
    {
     "name": "stderr",
     "output_type": "stream",
     "text": [
      "\n",
      "      24/30         0G     0.7177     0.4432     0.8472        547        640: 100%|██████████| 77/77 [03:38<00:00,  2.84s/it]\n",
      "                 Class     Images  Instances      Box(P          R      mAP50  mAP50-95): 100%|██████████| 5/5 [00:12<00:00,  2.52s/it]"
     ]
    },
    {
     "name": "stdout",
     "output_type": "stream",
     "text": [
      "                   all        154      11423      0.956      0.841      0.888      0.723\n",
      "\n",
      "      Epoch    GPU_mem   box_loss   cls_loss   dfl_loss  Instances       Size\n"
     ]
    },
    {
     "name": "stderr",
     "output_type": "stream",
     "text": [
      "\n",
      "      25/30         0G     0.7108     0.4377     0.8464        523        640: 100%|██████████| 77/77 [03:39<00:00,  2.85s/it]\n",
      "                 Class     Images  Instances      Box(P          R      mAP50  mAP50-95): 100%|██████████| 5/5 [00:11<00:00,  2.37s/it]"
     ]
    },
    {
     "name": "stdout",
     "output_type": "stream",
     "text": [
      "                   all        154      11423      0.954      0.841       0.89      0.728\n",
      "\n",
      "      Epoch    GPU_mem   box_loss   cls_loss   dfl_loss  Instances       Size\n"
     ]
    },
    {
     "name": "stderr",
     "output_type": "stream",
     "text": [
      "\n",
      "      26/30         0G     0.6926     0.4271     0.8461        554        640: 100%|██████████| 77/77 [03:23<00:00,  2.64s/it]\n",
      "                 Class     Images  Instances      Box(P          R      mAP50  mAP50-95): 100%|██████████| 5/5 [00:11<00:00,  2.36s/it]"
     ]
    },
    {
     "name": "stdout",
     "output_type": "stream",
     "text": [
      "                   all        154      11423      0.958      0.842      0.893      0.733\n"
     ]
    },
    {
     "name": "stderr",
     "output_type": "stream",
     "text": [
      "\n"
     ]
    },
    {
     "name": "stdout",
     "output_type": "stream",
     "text": [
      "\n",
      "      Epoch    GPU_mem   box_loss   cls_loss   dfl_loss  Instances       Size\n"
     ]
    },
    {
     "name": "stderr",
     "output_type": "stream",
     "text": [
      "      27/30         0G       0.69     0.4256     0.8467        551        640: 100%|██████████| 77/77 [03:31<00:00,  2.75s/it]\n",
      "                 Class     Images  Instances      Box(P          R      mAP50  mAP50-95): 100%|██████████| 5/5 [00:12<00:00,  2.43s/it]"
     ]
    },
    {
     "name": "stdout",
     "output_type": "stream",
     "text": [
      "                   all        154      11423       0.95      0.842      0.889      0.722\n"
     ]
    },
    {
     "name": "stderr",
     "output_type": "stream",
     "text": [
      "\n"
     ]
    },
    {
     "name": "stdout",
     "output_type": "stream",
     "text": [
      "\n",
      "      Epoch    GPU_mem   box_loss   cls_loss   dfl_loss  Instances       Size\n"
     ]
    },
    {
     "name": "stderr",
     "output_type": "stream",
     "text": [
      "      28/30         0G     0.6932     0.4225      0.847        571        640: 100%|██████████| 77/77 [03:30<00:00,  2.74s/it]\n",
      "                 Class     Images  Instances      Box(P          R      mAP50  mAP50-95): 100%|██████████| 5/5 [00:12<00:00,  2.48s/it]"
     ]
    },
    {
     "name": "stdout",
     "output_type": "stream",
     "text": [
      "                   all        154      11423      0.955      0.849      0.892      0.731\n",
      "\n",
      "      Epoch    GPU_mem   box_loss   cls_loss   dfl_loss  Instances       Size\n"
     ]
    },
    {
     "name": "stderr",
     "output_type": "stream",
     "text": [
      "\n",
      "      29/30         0G     0.6901     0.4179     0.8437        621        640: 100%|██████████| 77/77 [03:30<00:00,  2.74s/it]\n",
      "                 Class     Images  Instances      Box(P          R      mAP50  mAP50-95): 100%|██████████| 5/5 [00:12<00:00,  2.51s/it]"
     ]
    },
    {
     "name": "stdout",
     "output_type": "stream",
     "text": [
      "                   all        154      11423      0.955      0.845      0.893      0.733\n",
      "\n",
      "      Epoch    GPU_mem   box_loss   cls_loss   dfl_loss  Instances       Size\n"
     ]
    },
    {
     "name": "stderr",
     "output_type": "stream",
     "text": [
      "\n",
      "      30/30         0G     0.6729     0.4084     0.8426        576        640: 100%|██████████| 77/77 [03:37<00:00,  2.82s/it]\n",
      "                 Class     Images  Instances      Box(P          R      mAP50  mAP50-95): 100%|██████████| 5/5 [00:12<00:00,  2.56s/it]"
     ]
    },
    {
     "name": "stdout",
     "output_type": "stream",
     "text": [
      "                   all        154      11423       0.95      0.847      0.891       0.73\n",
      "\n",
      "30 epochs completed in 2.820 hours.\n"
     ]
    },
    {
     "name": "stderr",
     "output_type": "stream",
     "text": [
      "\n"
     ]
    },
    {
     "name": "stdout",
     "output_type": "stream",
     "text": [
      "Optimizer stripped from C:\\Users\\MSI\\Documents\\Thesis_Project\\Automste_Testing_DeepSeek_Model\\word-detect-yolo.v1i.yolov11-obb\\run1\\weights\\last.pt, 5.5MB\n",
      "Optimizer stripped from C:\\Users\\MSI\\Documents\\Thesis_Project\\Automste_Testing_DeepSeek_Model\\word-detect-yolo.v1i.yolov11-obb\\run1\\weights\\best.pt, 5.5MB\n",
      "\n",
      "Validating C:\\Users\\MSI\\Documents\\Thesis_Project\\Automste_Testing_DeepSeek_Model\\word-detect-yolo.v1i.yolov11-obb\\run1\\weights\\best.pt...\n",
      "Ultralytics 8.3.116  Python-3.9.0 torch-2.7.0+cpu CPU (13th Gen Intel Core(TM) i7-13620H)\n",
      "YOLO11n summary (fused): 100 layers, 2,582,347 parameters, 0 gradients, 6.3 GFLOPs\n"
     ]
    },
    {
     "name": "stderr",
     "output_type": "stream",
     "text": [
      "                 Class     Images  Instances      Box(P          R      mAP50  mAP50-95): 100%|██████████| 5/5 [00:10<00:00,  2.03s/it]\n"
     ]
    },
    {
     "name": "stdout",
     "output_type": "stream",
     "text": [
      "                   all        154      11423      0.957      0.842      0.893      0.733\n",
      "Speed: 0.7ms preprocess, 44.8ms inference, 0.0ms loss, 1.1ms postprocess per image\n",
      "Results saved to \u001b[1mC:\\Users\\MSI\\Documents\\Thesis_Project\\Automste_Testing_DeepSeek_Model\\word-detect-yolo.v1i.yolov11-obb\\run1\u001b[0m\n"
     ]
    }
   ],
   "source": [
    "results = model.train(\n",
    "    data=\"C:/Users/MSI/Documents/Thesis_Project/Automste_Testing_DeepSeek_Model/word-detect-yolo.v1i.yolov11-obb/data.yaml\",\n",
    "    epochs=30,\n",
    "    imgsz=640,\n",
    "    project=\"C:/Users/MSI/Documents/Thesis_Project/Automste_Testing_DeepSeek_Model/word-detect-yolo.v1i.yolov11-obb\",  # Output directory\n",
    "    name=\"run1\"  # Subfolder name for this run\n",
    ")"
   ]
  },
  {
   "cell_type": "code",
   "execution_count": null,
   "id": "cf540fd2",
   "metadata": {},
   "outputs": [],
   "source": []
  }
 ],
 "metadata": {
  "kernelspec": {
   "display_name": "env",
   "language": "python",
   "name": "python3"
  },
  "language_info": {
   "codemirror_mode": {
    "name": "ipython",
    "version": 3
   },
   "file_extension": ".py",
   "mimetype": "text/x-python",
   "name": "python",
   "nbconvert_exporter": "python",
   "pygments_lexer": "ipython3",
   "version": "3.9.0"
  }
 },
 "nbformat": 4,
 "nbformat_minor": 5
}
